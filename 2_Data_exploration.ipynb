{
 "cells": [
  {
   "cell_type": "markdown",
   "id": "2c2cefa3-8ba0-4f15-a079-c89f55aee3bc",
   "metadata": {
    "tags": []
   },
   "source": [
    "# Part II: Data exploration\n",
    "\n",
    "Date: 25/08/2022\n",
    "\n",
    "Authors: Jordi Bolibar & Facundo Sapienza\n",
    "\n",
    "Once we have successfully retrieved the training dataset using OGGM, we can start exploring and understanding the dataset. The goal of this notebook will be to perform some basic data analysis techniques on the data, and to understand the physical reasons behind the selected features for the model. \n",
    "\n",
    "> **_NOTE_** Before running this notebook, be sure you Jupyter kernel (top left corner of the notebook) has been configure to work with the MB_Finsen conda environment. \n"
   ]
  },
  {
   "cell_type": "code",
   "execution_count": 10,
   "id": "b8adac8f-cd7e-409b-a159-f3b9e08315a8",
   "metadata": {},
   "outputs": [],
   "source": [
    "import xarray as xr\n",
    "import numpy as np\n",
    "import rioxarray\n",
    "import pandas as pd\n",
    "import geopandas as gpd\n",
    "import matplotlib.pyplot as plt"
   ]
  },
  {
   "cell_type": "markdown",
   "id": "3c28fbe1-6209-4dd4-b39a-ad2c6c56f415",
   "metadata": {},
   "source": [
    "We load the preprocessed training DataFrame:"
   ]
  },
  {
   "cell_type": "code",
   "execution_count": 6,
   "id": "8e695ce3-422a-4508-bec5-d087e714f11e",
   "metadata": {},
   "outputs": [],
   "source": [
    "training_df = pd.read_csv('Data/training_df.csv')"
   ]
  },
  {
   "cell_type": "code",
   "execution_count": 7,
   "id": "55c3b11e-49ce-4ccd-87dd-263997cebe91",
   "metadata": {},
   "outputs": [
    {
     "data": {
      "text/plain": [
       "Index(['rgi_id', 'hydro_year', 'PDD', 'RGI_ID', 'area', 'icecap', 'lat',\n",
       "       'prcp_01', 'prcp_02', 'prcp_03', 'prcp_04', 'prcp_05', 'prcp_06',\n",
       "       'prcp_07', 'prcp_08', 'prcp_09', 'prcp_10', 'prcp_11', 'prcp_12',\n",
       "       'rain', 'slope', 'snow', 'temp_01', 'temp_02', 'temp_03', 'temp_04',\n",
       "       'temp_05', 'temp_06', 'temp_07', 'temp_08', 'temp_09', 'temp_10',\n",
       "       'temp_11', 'temp_12', 'zmax', 'zmed', 'zmin'],\n",
       "      dtype='object')"
      ]
     },
     "execution_count": 7,
     "metadata": {},
     "output_type": "execute_result"
    }
   ],
   "source": [
    "training_df.columns"
   ]
  },
  {
   "cell_type": "markdown",
   "id": "f6428f4e-f644-477b-99b0-742935272bf0",
   "metadata": {},
   "source": [
    "## Informed feature selection"
   ]
  },
  {
   "cell_type": "markdown",
   "id": "bb29a30d-6272-468a-a8e4-65a1eaf199cd",
   "metadata": {},
   "source": [
    "In this dataset we have already narrowed down a selection of training features for you. Nonetheless, in a research project, this step should not be taken for granted, since it can have a great impact on model design. \n",
    "\n",
    "The first question we should ask ouselves is: what variables affect the physical process we are trying to model here? In this case, we are talking about **glacier-wide mass balance**. Theory tells us that the integrated mass balance over the whole surface area of a glacier is impacted by both the climate and the topography of a glacier. \n",
    "\n",
    "Unlike point mass balance, the hypsometry of a glacier has a great impact on its glacier-wide mass balance. This is mainly manifested in two ways:\n",
    "- The glacier surface slope affects ice flow dynamics, particularly the creep component. Generally, steeper glaciers have higher ice velocities, which imply a faster transfer of ice from the higher altitudes in the accumulation area to the lower altitudes in the ablation area. Therefore, a steep glacier will retreat faster (i.e. smaller surface area and higher mean altitude), but it will be able to move to higher altiudes with a colder climate. This helps the glacier find new colder climates in an effort to reach equilibrium. On the other hand, flatter glaciers and ice caps will not retreate as fast, since they react mostly through thinning (see Figure). This means that the glacier will move to lower altitudes with a warmer climate, further enhancing melt. This has an opposite effect to the one from steep mountain glaciers. \n",
    "\n",
    "- Steep mountain glaciers have a wider altitudinal range, meaning that they mass balance gradient will be higher and more complex. On the other hand, ice caps behave more similar to an ice cube: the reduced role of ice dynamics and their small altitudinal range imply a more homogenous mass balance gradient.\n",
    "\n",
    "![Mountain glacier vs Ice cap retreat](Figures/Hock_Huss_glacier_icecap.png \"Mountain glacier vs Ice cap retreat\")\n",
    "*Figure taken from Hock and Huss (2021).*\n",
    "\n",
    "The next question at this point would be: what available data at the spatial and temporal scales that we are trying to model can I access? "
   ]
  }
 ],
 "metadata": {
  "kernelspec": {
   "display_name": "Python [conda env:.conda-oggm_env]",
   "language": "python",
   "name": "conda-env-.conda-oggm_env-py"
  },
  "language_info": {
   "codemirror_mode": {
    "name": "ipython",
    "version": 3
   },
   "file_extension": ".py",
   "mimetype": "text/x-python",
   "name": "python",
   "nbconvert_exporter": "python",
   "pygments_lexer": "ipython3",
   "version": "3.9.9"
  }
 },
 "nbformat": 4,
 "nbformat_minor": 5
}
