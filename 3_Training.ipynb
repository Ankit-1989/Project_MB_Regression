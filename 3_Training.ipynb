{
 "cells": [
  {
   "cell_type": "markdown",
   "id": "8e9ac815-ccb4-41c0-8491-3c64dcf002c8",
   "metadata": {},
   "source": [
    "# Part III: Training a model\n",
    "\n",
    "Authors: Jordi Bolibar & Facundo Sapienza"
   ]
  },
  {
   "cell_type": "markdown",
   "id": "1dfd3031-11c4-452d-ac19-c35a7268ebfd",
   "metadata": {
    "user_expressions": []
   },
   "source": [
    "In this notebook, we will focus on how to train different machine learning models with the dataset we have prepared. For now, we will forget about cross-validation and test, and we will just focus on the specificities of each method to familiarize ourselves with classic machine learning approaches. "
   ]
  },
  {
   "cell_type": "code",
   "execution_count": 1,
   "id": "ce4e517f-76cf-440e-beea-0c0441fc0db7",
   "metadata": {},
   "outputs": [],
   "source": [
    "import numpy as np\n",
    "import pandas as pd\n",
    "import matplotlib.pyplot as plt\n",
    "from sklearn.model_selection import train_test_split"
   ]
  },
  {
   "cell_type": "markdown",
   "id": "d310fd91-71b7-4f55-aa5d-f9cd60f629a6",
   "metadata": {
    "user_expressions": []
   },
   "source": [
    "## 3.1 Setup\n",
    "\n",
    "At this point, `df_all` has all the data we will need to train, validate and test the model. However, before moving forward to training a machine learning model with this data, we need to separate an part of the dataset for testing the model and be sure we are not overfitting the model. \n",
    "\n",
    "For testing, we can use different strategies:\n",
    "1. Separate all the data for some given set of glaciers and use all the rest for training/validation\n",
    "1. Separate all the data for some given set of glaciers at period (2010-2020) and use all the rest for trainign/validation\n",
    "1. Separate all the data for some given set of glaciers at the period 2010-2020 and use all the measurements for rest of the glaciers and the other period 2000-2010 for training/validation.\n",
    "\n",
    "Following the reasoning of the previous notebook, since this dataset is very rich in the *spatial* domain, we are going to split it in that dimension instead of the *temporal* one. By doing so, we will attempt to predict glacier changes for glaciers in Scandinavia for which we have not \"seen\" any observations. "
   ]
  },
  {
   "cell_type": "markdown",
   "id": "f724bfc2-bcb8-4a41-ac7c-28deead14a26",
   "metadata": {
    "user_expressions": []
   },
   "source": [
    "We read the previously stored dataset with the feature matrix and the target data."
   ]
  },
  {
   "cell_type": "code",
   "execution_count": 2,
   "id": "4e29923b-abb9-49b8-b547-fe42f784292f",
   "metadata": {},
   "outputs": [
    {
     "data": {
      "text/html": [
       "<div>\n",
       "<style scoped>\n",
       "    .dataframe tbody tr th:only-of-type {\n",
       "        vertical-align: middle;\n",
       "    }\n",
       "\n",
       "    .dataframe tbody tr th {\n",
       "        vertical-align: top;\n",
       "    }\n",
       "\n",
       "    .dataframe thead th {\n",
       "        text-align: right;\n",
       "    }\n",
       "</style>\n",
       "<table border=\"1\" class=\"dataframe\">\n",
       "  <thead>\n",
       "    <tr style=\"text-align: right;\">\n",
       "      <th></th>\n",
       "      <th></th>\n",
       "      <th>PDD</th>\n",
       "      <th>area</th>\n",
       "      <th>icecap</th>\n",
       "      <th>lat</th>\n",
       "      <th>prcp_01</th>\n",
       "      <th>prcp_02</th>\n",
       "      <th>prcp_03</th>\n",
       "      <th>prcp_04</th>\n",
       "      <th>prcp_05</th>\n",
       "      <th>prcp_06</th>\n",
       "      <th>...</th>\n",
       "      <th>temp_09</th>\n",
       "      <th>temp_10</th>\n",
       "      <th>temp_11</th>\n",
       "      <th>temp_12</th>\n",
       "      <th>zmax</th>\n",
       "      <th>zmed</th>\n",
       "      <th>zmin</th>\n",
       "      <th>dmdtda</th>\n",
       "      <th>err_dmdtda</th>\n",
       "      <th>target_id</th>\n",
       "    </tr>\n",
       "    <tr>\n",
       "      <th>rgi_id</th>\n",
       "      <th>period</th>\n",
       "      <th></th>\n",
       "      <th></th>\n",
       "      <th></th>\n",
       "      <th></th>\n",
       "      <th></th>\n",
       "      <th></th>\n",
       "      <th></th>\n",
       "      <th></th>\n",
       "      <th></th>\n",
       "      <th></th>\n",
       "      <th></th>\n",
       "      <th></th>\n",
       "      <th></th>\n",
       "      <th></th>\n",
       "      <th></th>\n",
       "      <th></th>\n",
       "      <th></th>\n",
       "      <th></th>\n",
       "      <th></th>\n",
       "      <th></th>\n",
       "      <th></th>\n",
       "    </tr>\n",
       "  </thead>\n",
       "  <tbody>\n",
       "    <tr>\n",
       "      <th rowspan=\"2\" valign=\"top\">RGI60-08.00001</th>\n",
       "      <th>2000-2010</th>\n",
       "      <td>39.787001</td>\n",
       "      <td>0.030</td>\n",
       "      <td>0.0</td>\n",
       "      <td>67.930</td>\n",
       "      <td>59.556398</td>\n",
       "      <td>42.393607</td>\n",
       "      <td>49.464068</td>\n",
       "      <td>40.707838</td>\n",
       "      <td>28.460900</td>\n",
       "      <td>32.946557</td>\n",
       "      <td>...</td>\n",
       "      <td>8.765555</td>\n",
       "      <td>13.037779</td>\n",
       "      <td>10.950000</td>\n",
       "      <td>6.391112</td>\n",
       "      <td>250.0</td>\n",
       "      <td>242.0</td>\n",
       "      <td>235.0</td>\n",
       "      <td>-0.458772</td>\n",
       "      <td>0.449120</td>\n",
       "      <td>0.0</td>\n",
       "    </tr>\n",
       "    <tr>\n",
       "      <th>2010-2020</th>\n",
       "      <td>41.833601</td>\n",
       "      <td>0.030</td>\n",
       "      <td>0.0</td>\n",
       "      <td>67.930</td>\n",
       "      <td>57.685775</td>\n",
       "      <td>45.119089</td>\n",
       "      <td>49.848962</td>\n",
       "      <td>37.706105</td>\n",
       "      <td>33.120270</td>\n",
       "      <td>41.740137</td>\n",
       "      <td>...</td>\n",
       "      <td>8.942221</td>\n",
       "      <td>13.034446</td>\n",
       "      <td>11.120000</td>\n",
       "      <td>7.227779</td>\n",
       "      <td>250.0</td>\n",
       "      <td>242.0</td>\n",
       "      <td>235.0</td>\n",
       "      <td>-0.356250</td>\n",
       "      <td>0.435293</td>\n",
       "      <td>1.0</td>\n",
       "    </tr>\n",
       "    <tr>\n",
       "      <th rowspan=\"2\" valign=\"top\">RGI60-08.00002</th>\n",
       "      <th>2000-2010</th>\n",
       "      <td>44.907200</td>\n",
       "      <td>0.030</td>\n",
       "      <td>0.0</td>\n",
       "      <td>67.870</td>\n",
       "      <td>62.082497</td>\n",
       "      <td>43.677873</td>\n",
       "      <td>49.432192</td>\n",
       "      <td>41.313322</td>\n",
       "      <td>28.519503</td>\n",
       "      <td>32.153049</td>\n",
       "      <td>...</td>\n",
       "      <td>9.274814</td>\n",
       "      <td>13.517038</td>\n",
       "      <td>11.384073</td>\n",
       "      <td>6.784445</td>\n",
       "      <td>246.0</td>\n",
       "      <td>239.0</td>\n",
       "      <td>228.0</td>\n",
       "      <td>-0.458772</td>\n",
       "      <td>0.449120</td>\n",
       "      <td>2.0</td>\n",
       "    </tr>\n",
       "    <tr>\n",
       "      <th>2010-2020</th>\n",
       "      <td>46.980223</td>\n",
       "      <td>0.030</td>\n",
       "      <td>0.0</td>\n",
       "      <td>67.870</td>\n",
       "      <td>59.345685</td>\n",
       "      <td>45.845166</td>\n",
       "      <td>49.957571</td>\n",
       "      <td>37.644466</td>\n",
       "      <td>32.577409</td>\n",
       "      <td>40.674079</td>\n",
       "      <td>...</td>\n",
       "      <td>9.423703</td>\n",
       "      <td>13.538149</td>\n",
       "      <td>11.500740</td>\n",
       "      <td>7.632223</td>\n",
       "      <td>246.0</td>\n",
       "      <td>239.0</td>\n",
       "      <td>228.0</td>\n",
       "      <td>-0.356250</td>\n",
       "      <td>0.435293</td>\n",
       "      <td>3.0</td>\n",
       "    </tr>\n",
       "    <tr>\n",
       "      <th>RGI60-08.00003</th>\n",
       "      <th>2000-2010</th>\n",
       "      <td>35.337201</td>\n",
       "      <td>0.020</td>\n",
       "      <td>0.0</td>\n",
       "      <td>67.820</td>\n",
       "      <td>60.485810</td>\n",
       "      <td>45.600863</td>\n",
       "      <td>55.059464</td>\n",
       "      <td>46.842254</td>\n",
       "      <td>33.796713</td>\n",
       "      <td>38.831589</td>\n",
       "      <td>...</td>\n",
       "      <td>7.059999</td>\n",
       "      <td>11.433335</td>\n",
       "      <td>9.346666</td>\n",
       "      <td>4.700001</td>\n",
       "      <td>749.0</td>\n",
       "      <td>726.0</td>\n",
       "      <td>701.0</td>\n",
       "      <td>-0.458772</td>\n",
       "      <td>0.449120</td>\n",
       "      <td>4.0</td>\n",
       "    </tr>\n",
       "    <tr>\n",
       "      <th>...</th>\n",
       "      <th>...</th>\n",
       "      <td>...</td>\n",
       "      <td>...</td>\n",
       "      <td>...</td>\n",
       "      <td>...</td>\n",
       "      <td>...</td>\n",
       "      <td>...</td>\n",
       "      <td>...</td>\n",
       "      <td>...</td>\n",
       "      <td>...</td>\n",
       "      <td>...</td>\n",
       "      <td>...</td>\n",
       "      <td>...</td>\n",
       "      <td>...</td>\n",
       "      <td>...</td>\n",
       "      <td>...</td>\n",
       "      <td>...</td>\n",
       "      <td>...</td>\n",
       "      <td>...</td>\n",
       "      <td>...</td>\n",
       "      <td>...</td>\n",
       "      <td>...</td>\n",
       "    </tr>\n",
       "    <tr>\n",
       "      <th>RGI60-08.03415</th>\n",
       "      <th>2010-2020</th>\n",
       "      <td>34.757735</td>\n",
       "      <td>0.056</td>\n",
       "      <td>0.0</td>\n",
       "      <td>66.729</td>\n",
       "      <td>131.108065</td>\n",
       "      <td>107.707591</td>\n",
       "      <td>144.610990</td>\n",
       "      <td>98.574383</td>\n",
       "      <td>92.859806</td>\n",
       "      <td>111.586080</td>\n",
       "      <td>...</td>\n",
       "      <td>4.860000</td>\n",
       "      <td>8.513335</td>\n",
       "      <td>7.726667</td>\n",
       "      <td>4.133333</td>\n",
       "      <td>1330.0</td>\n",
       "      <td>1314.0</td>\n",
       "      <td>1289.0</td>\n",
       "      <td>0.534500</td>\n",
       "      <td>0.575100</td>\n",
       "      <td>6829.0</td>\n",
       "    </tr>\n",
       "    <tr>\n",
       "      <th rowspan=\"2\" valign=\"top\">RGI60-08.03416</th>\n",
       "      <th>2000-2010</th>\n",
       "      <td>66.325377</td>\n",
       "      <td>14.152</td>\n",
       "      <td>0.0</td>\n",
       "      <td>66.006</td>\n",
       "      <td>160.244277</td>\n",
       "      <td>183.438569</td>\n",
       "      <td>186.103358</td>\n",
       "      <td>190.792902</td>\n",
       "      <td>139.485696</td>\n",
       "      <td>115.362394</td>\n",
       "      <td>...</td>\n",
       "      <td>6.778889</td>\n",
       "      <td>9.997777</td>\n",
       "      <td>9.253333</td>\n",
       "      <td>5.060001</td>\n",
       "      <td>1811.0</td>\n",
       "      <td>1581.0</td>\n",
       "      <td>890.0</td>\n",
       "      <td>-0.737400</td>\n",
       "      <td>0.251600</td>\n",
       "      <td>6830.0</td>\n",
       "    </tr>\n",
       "    <tr>\n",
       "      <th>2010-2020</th>\n",
       "      <td>66.505066</td>\n",
       "      <td>14.152</td>\n",
       "      <td>0.0</td>\n",
       "      <td>66.006</td>\n",
       "      <td>174.868147</td>\n",
       "      <td>146.277851</td>\n",
       "      <td>205.123464</td>\n",
       "      <td>136.355639</td>\n",
       "      <td>129.459209</td>\n",
       "      <td>140.041785</td>\n",
       "      <td>...</td>\n",
       "      <td>6.448889</td>\n",
       "      <td>9.764443</td>\n",
       "      <td>9.126666</td>\n",
       "      <td>5.783334</td>\n",
       "      <td>1811.0</td>\n",
       "      <td>1581.0</td>\n",
       "      <td>890.0</td>\n",
       "      <td>-0.649400</td>\n",
       "      <td>0.240600</td>\n",
       "      <td>6831.0</td>\n",
       "    </tr>\n",
       "    <tr>\n",
       "      <th rowspan=\"2\" valign=\"top\">RGI60-08.03417</th>\n",
       "      <th>2000-2010</th>\n",
       "      <td>53.358777</td>\n",
       "      <td>0.150</td>\n",
       "      <td>0.0</td>\n",
       "      <td>65.923</td>\n",
       "      <td>152.880332</td>\n",
       "      <td>173.554018</td>\n",
       "      <td>177.555157</td>\n",
       "      <td>183.980329</td>\n",
       "      <td>133.112843</td>\n",
       "      <td>112.064028</td>\n",
       "      <td>...</td>\n",
       "      <td>7.277778</td>\n",
       "      <td>10.505554</td>\n",
       "      <td>9.549999</td>\n",
       "      <td>5.363334</td>\n",
       "      <td>1318.0</td>\n",
       "      <td>1186.0</td>\n",
       "      <td>1090.0</td>\n",
       "      <td>-0.616100</td>\n",
       "      <td>0.524300</td>\n",
       "      <td>6832.0</td>\n",
       "    </tr>\n",
       "    <tr>\n",
       "      <th>2010-2020</th>\n",
       "      <td>53.116888</td>\n",
       "      <td>0.150</td>\n",
       "      <td>0.0</td>\n",
       "      <td>65.923</td>\n",
       "      <td>165.529468</td>\n",
       "      <td>138.168895</td>\n",
       "      <td>196.729779</td>\n",
       "      <td>132.081722</td>\n",
       "      <td>123.916238</td>\n",
       "      <td>134.381284</td>\n",
       "      <td>...</td>\n",
       "      <td>6.947778</td>\n",
       "      <td>10.288887</td>\n",
       "      <td>9.436666</td>\n",
       "      <td>6.070001</td>\n",
       "      <td>1318.0</td>\n",
       "      <td>1186.0</td>\n",
       "      <td>1090.0</td>\n",
       "      <td>0.389200</td>\n",
       "      <td>0.496600</td>\n",
       "      <td>6833.0</td>\n",
       "    </tr>\n",
       "  </tbody>\n",
       "</table>\n",
       "<p>6834 rows × 37 columns</p>\n",
       "</div>"
      ],
      "text/plain": [
       "                                PDD    area  icecap     lat     prcp_01  \\\n",
       "rgi_id         period                                                     \n",
       "RGI60-08.00001 2000-2010  39.787001   0.030     0.0  67.930   59.556398   \n",
       "               2010-2020  41.833601   0.030     0.0  67.930   57.685775   \n",
       "RGI60-08.00002 2000-2010  44.907200   0.030     0.0  67.870   62.082497   \n",
       "               2010-2020  46.980223   0.030     0.0  67.870   59.345685   \n",
       "RGI60-08.00003 2000-2010  35.337201   0.020     0.0  67.820   60.485810   \n",
       "...                             ...     ...     ...     ...         ...   \n",
       "RGI60-08.03415 2010-2020  34.757735   0.056     0.0  66.729  131.108065   \n",
       "RGI60-08.03416 2000-2010  66.325377  14.152     0.0  66.006  160.244277   \n",
       "               2010-2020  66.505066  14.152     0.0  66.006  174.868147   \n",
       "RGI60-08.03417 2000-2010  53.358777   0.150     0.0  65.923  152.880332   \n",
       "               2010-2020  53.116888   0.150     0.0  65.923  165.529468   \n",
       "\n",
       "                             prcp_02     prcp_03     prcp_04     prcp_05  \\\n",
       "rgi_id         period                                                      \n",
       "RGI60-08.00001 2000-2010   42.393607   49.464068   40.707838   28.460900   \n",
       "               2010-2020   45.119089   49.848962   37.706105   33.120270   \n",
       "RGI60-08.00002 2000-2010   43.677873   49.432192   41.313322   28.519503   \n",
       "               2010-2020   45.845166   49.957571   37.644466   32.577409   \n",
       "RGI60-08.00003 2000-2010   45.600863   55.059464   46.842254   33.796713   \n",
       "...                              ...         ...         ...         ...   \n",
       "RGI60-08.03415 2010-2020  107.707591  144.610990   98.574383   92.859806   \n",
       "RGI60-08.03416 2000-2010  183.438569  186.103358  190.792902  139.485696   \n",
       "               2010-2020  146.277851  205.123464  136.355639  129.459209   \n",
       "RGI60-08.03417 2000-2010  173.554018  177.555157  183.980329  133.112843   \n",
       "               2010-2020  138.168895  196.729779  132.081722  123.916238   \n",
       "\n",
       "                             prcp_06  ...   temp_09    temp_10    temp_11  \\\n",
       "rgi_id         period                 ...                                   \n",
       "RGI60-08.00001 2000-2010   32.946557  ...  8.765555  13.037779  10.950000   \n",
       "               2010-2020   41.740137  ...  8.942221  13.034446  11.120000   \n",
       "RGI60-08.00002 2000-2010   32.153049  ...  9.274814  13.517038  11.384073   \n",
       "               2010-2020   40.674079  ...  9.423703  13.538149  11.500740   \n",
       "RGI60-08.00003 2000-2010   38.831589  ...  7.059999  11.433335   9.346666   \n",
       "...                              ...  ...       ...        ...        ...   \n",
       "RGI60-08.03415 2010-2020  111.586080  ...  4.860000   8.513335   7.726667   \n",
       "RGI60-08.03416 2000-2010  115.362394  ...  6.778889   9.997777   9.253333   \n",
       "               2010-2020  140.041785  ...  6.448889   9.764443   9.126666   \n",
       "RGI60-08.03417 2000-2010  112.064028  ...  7.277778  10.505554   9.549999   \n",
       "               2010-2020  134.381284  ...  6.947778  10.288887   9.436666   \n",
       "\n",
       "                           temp_12    zmax    zmed    zmin    dmdtda  \\\n",
       "rgi_id         period                                                  \n",
       "RGI60-08.00001 2000-2010  6.391112   250.0   242.0   235.0 -0.458772   \n",
       "               2010-2020  7.227779   250.0   242.0   235.0 -0.356250   \n",
       "RGI60-08.00002 2000-2010  6.784445   246.0   239.0   228.0 -0.458772   \n",
       "               2010-2020  7.632223   246.0   239.0   228.0 -0.356250   \n",
       "RGI60-08.00003 2000-2010  4.700001   749.0   726.0   701.0 -0.458772   \n",
       "...                            ...     ...     ...     ...       ...   \n",
       "RGI60-08.03415 2010-2020  4.133333  1330.0  1314.0  1289.0  0.534500   \n",
       "RGI60-08.03416 2000-2010  5.060001  1811.0  1581.0   890.0 -0.737400   \n",
       "               2010-2020  5.783334  1811.0  1581.0   890.0 -0.649400   \n",
       "RGI60-08.03417 2000-2010  5.363334  1318.0  1186.0  1090.0 -0.616100   \n",
       "               2010-2020  6.070001  1318.0  1186.0  1090.0  0.389200   \n",
       "\n",
       "                          err_dmdtda  target_id  \n",
       "rgi_id         period                            \n",
       "RGI60-08.00001 2000-2010    0.449120        0.0  \n",
       "               2010-2020    0.435293        1.0  \n",
       "RGI60-08.00002 2000-2010    0.449120        2.0  \n",
       "               2010-2020    0.435293        3.0  \n",
       "RGI60-08.00003 2000-2010    0.449120        4.0  \n",
       "...                              ...        ...  \n",
       "RGI60-08.03415 2010-2020    0.575100     6829.0  \n",
       "RGI60-08.03416 2000-2010    0.251600     6830.0  \n",
       "               2010-2020    0.240600     6831.0  \n",
       "RGI60-08.03417 2000-2010    0.524300     6832.0  \n",
       "               2010-2020    0.496600     6833.0  \n",
       "\n",
       "[6834 rows x 37 columns]"
      ]
     },
     "execution_count": 2,
     "metadata": {},
     "output_type": "execute_result"
    }
   ],
   "source": [
    "df_all = pd.read_csv('Data/df_all.csv', index_col=['rgi_id', 'period'])\n",
    "df_all"
   ]
  },
  {
   "cell_type": "markdown",
   "id": "a1257726-1db5-4922-a665-219146967cdb",
   "metadata": {},
   "source": [
    "### Separation into train and test"
   ]
  },
  {
   "cell_type": "markdown",
   "id": "f3c27145-f04d-45b8-9ca2-8ca0994a5da2",
   "metadata": {
    "user_expressions": []
   },
   "source": [
    "Now we need to split our dataset into train and test. We are going to keep 70% of glaciers for training and 30% for test. It is very important NOT to use the test dataset until the very end of our training, once we are sure we have found the best hyperparameters. "
   ]
  },
  {
   "cell_type": "code",
   "execution_count": 3,
   "id": "aac8dfc9-9280-4e86-9c1b-20e596efea91",
   "metadata": {},
   "outputs": [
    {
     "data": {
      "text/plain": [
       "((2050, 37), (4784, 37))"
      ]
     },
     "execution_count": 3,
     "metadata": {},
     "output_type": "execute_result"
    }
   ],
   "source": [
    "glaciers_ids_all = np.unique(df_all.index.get_level_values(0).values)\n",
    "\n",
    "glacier_train, glacier_test = train_test_split(glaciers_ids_all, \n",
    "                                               train_size=0.3,\n",
    "                                               test_size=0.7)\n",
    "\n",
    "df_train_all = df_all.loc[glacier_train]\n",
    "df_test = df_all.loc[glacier_test]\n",
    "df_train_all.shape, df_test.shape"
   ]
  },
  {
   "cell_type": "markdown",
   "id": "324747a8-88a2-40ef-8bd1-826f2732ee50",
   "metadata": {
    "user_expressions": []
   },
   "source": [
    "We save the test dataset into a file in order to put it aside."
   ]
  },
  {
   "cell_type": "code",
   "execution_count": 4,
   "id": "c588fe84-8e04-48e4-9bea-c09a6cf494cf",
   "metadata": {},
   "outputs": [],
   "source": [
    "df_test.to_csv('Data/df_test.csv')"
   ]
  },
  {
   "cell_type": "markdown",
   "id": "0c973f9e-4750-4f8f-ae01-53a1be1a72df",
   "metadata": {},
   "source": [
    "### Separation into validation and train"
   ]
  },
  {
   "cell_type": "markdown",
   "id": "07e3b200-afab-493a-9b34-332ac45643b8",
   "metadata": {
    "user_expressions": []
   },
   "source": [
    "Now we are going to train the models based on the train dataset, which will have to be split again into train and validation. As a reminder, the train dataset will be given to the machine learning models in order to fit the data, and the validation dataset will be set aside, in order to tune the hyperparameters of the model so they best fit the out-of-sample validation dataset. This is done to avoid overfitting and to select a set of model hyperparameters that best generalize unseen data. \n",
    "\n",
    "A simple and naive way of doing so, is doing a simple split of 80% for train, and 20% for validation. Bear in mind that here the new train dataset is just a subset of the previous train dataset. From the original dataset, we have split things in the following way:\n",
    "\n",
    "Full dataset:\n",
    "* Test dataset -> set aside\n",
    "* Train dataset -> split further into train/validation\n",
    "    + Validation dataset -> used for hyperparameter selection\n",
    "    + Train dataset -> actual train dataset fed to the different machine learning models"
   ]
  },
  {
   "cell_type": "markdown",
   "id": "22031b51-8328-49a5-93c6-c95b4123d38a",
   "metadata": {
    "user_expressions": []
   },
   "source": [
    "For now, we will just split the dataset into 80% train, 20% test."
   ]
  },
  {
   "cell_type": "code",
   "execution_count": 5,
   "id": "9fbd6182-b6b2-4990-b058-bedef65a48d2",
   "metadata": {},
   "outputs": [
    {
     "data": {
      "text/plain": [
       "((1640, 37), (410, 37))"
      ]
     },
     "execution_count": 5,
     "metadata": {},
     "output_type": "execute_result"
    }
   ],
   "source": [
    "glaciers_ids = np.unique(df_train_all.index.get_level_values(0).values)\n",
    "\n",
    "train_dataset, validation_dataset = train_test_split(glaciers_ids, \n",
    "                                               train_size=0.8,\n",
    "                                               test_size=0.2)\n",
    "\n",
    "df_train = df_all.loc[train_dataset]\n",
    "df_validation = df_all.loc[validation_dataset]\n",
    "df_train.shape, df_validation.shape"
   ]
  },
  {
   "cell_type": "markdown",
   "id": "14191f85-2e57-48a3-b476-914081281377",
   "metadata": {
    "user_expressions": []
   },
   "source": [
    "And now we need to separate the feature matrix ($X$) from the target data ($Y$), since they need to be fed separately to the models. This will give us 4 different datasets:\n",
    "- Training datasets:\n",
    "    - `X_train`\n",
    "    - `y_train`\n",
    "- Validation datasets:\n",
    "    - `X_validation`\n",
    "    - `y_validation`"
   ]
  },
  {
   "cell_type": "code",
   "execution_count": 6,
   "id": "e3074979-3f96-4440-9e99-6b49785d6af7",
   "metadata": {},
   "outputs": [],
   "source": [
    "features_to_drop = ['dmdtda', 'err_dmdtda', 'target_id']\n",
    "\n",
    "df_train_X = df_train.drop(features_to_drop, axis=1)\n",
    "df_train_y = df_train[['dmdtda']]\n",
    "\n",
    "X_train, y_train = df_train_X.values, df_train_y.values\n",
    "\n",
    "# And the same for test set\n",
    "df_validation_X = df_validation.drop(features_to_drop, axis=1)\n",
    "df_validation_y = df_validation[['dmdtda']]\n",
    "\n",
    "X_validation, y_validation = df_validation_X.values, df_validation_y.values"
   ]
  },
  {
   "cell_type": "code",
   "execution_count": 7,
   "id": "05afd7db-73c4-4b1e-8a09-167feec81fe0",
   "metadata": {},
   "outputs": [
    {
     "data": {
      "text/html": [
       "<div>\n",
       "<style scoped>\n",
       "    .dataframe tbody tr th:only-of-type {\n",
       "        vertical-align: middle;\n",
       "    }\n",
       "\n",
       "    .dataframe tbody tr th {\n",
       "        vertical-align: top;\n",
       "    }\n",
       "\n",
       "    .dataframe thead th {\n",
       "        text-align: right;\n",
       "    }\n",
       "</style>\n",
       "<table border=\"1\" class=\"dataframe\">\n",
       "  <thead>\n",
       "    <tr style=\"text-align: right;\">\n",
       "      <th></th>\n",
       "      <th></th>\n",
       "      <th>PDD</th>\n",
       "      <th>area</th>\n",
       "      <th>icecap</th>\n",
       "      <th>lat</th>\n",
       "      <th>prcp_01</th>\n",
       "      <th>prcp_02</th>\n",
       "      <th>prcp_03</th>\n",
       "      <th>prcp_04</th>\n",
       "      <th>prcp_05</th>\n",
       "      <th>prcp_06</th>\n",
       "      <th>...</th>\n",
       "      <th>temp_06</th>\n",
       "      <th>temp_07</th>\n",
       "      <th>temp_08</th>\n",
       "      <th>temp_09</th>\n",
       "      <th>temp_10</th>\n",
       "      <th>temp_11</th>\n",
       "      <th>temp_12</th>\n",
       "      <th>zmax</th>\n",
       "      <th>zmed</th>\n",
       "      <th>zmin</th>\n",
       "    </tr>\n",
       "    <tr>\n",
       "      <th>rgi_id</th>\n",
       "      <th>period</th>\n",
       "      <th></th>\n",
       "      <th></th>\n",
       "      <th></th>\n",
       "      <th></th>\n",
       "      <th></th>\n",
       "      <th></th>\n",
       "      <th></th>\n",
       "      <th></th>\n",
       "      <th></th>\n",
       "      <th></th>\n",
       "      <th></th>\n",
       "      <th></th>\n",
       "      <th></th>\n",
       "      <th></th>\n",
       "      <th></th>\n",
       "      <th></th>\n",
       "      <th></th>\n",
       "      <th></th>\n",
       "      <th></th>\n",
       "      <th></th>\n",
       "      <th></th>\n",
       "    </tr>\n",
       "  </thead>\n",
       "  <tbody>\n",
       "    <tr>\n",
       "      <th rowspan=\"2\" valign=\"top\">RGI60-08.00474</th>\n",
       "      <th>2000-2010</th>\n",
       "      <td>57.423229</td>\n",
       "      <td>0.963</td>\n",
       "      <td>0.0</td>\n",
       "      <td>61.460</td>\n",
       "      <td>180.605754</td>\n",
       "      <td>179.220350</td>\n",
       "      <td>189.276083</td>\n",
       "      <td>193.833619</td>\n",
       "      <td>125.218186</td>\n",
       "      <td>110.821174</td>\n",
       "      <td>...</td>\n",
       "      <td>-4.546667</td>\n",
       "      <td>-0.331111</td>\n",
       "      <td>3.950740</td>\n",
       "      <td>7.704444</td>\n",
       "      <td>10.274074</td>\n",
       "      <td>9.710740</td>\n",
       "      <td>5.632594</td>\n",
       "      <td>1673.0</td>\n",
       "      <td>1514.0</td>\n",
       "      <td>1414.0</td>\n",
       "    </tr>\n",
       "    <tr>\n",
       "      <th>2010-2020</th>\n",
       "      <td>56.503103</td>\n",
       "      <td>0.963</td>\n",
       "      <td>0.0</td>\n",
       "      <td>61.460</td>\n",
       "      <td>177.588855</td>\n",
       "      <td>152.698084</td>\n",
       "      <td>197.095410</td>\n",
       "      <td>143.539612</td>\n",
       "      <td>109.205440</td>\n",
       "      <td>119.362232</td>\n",
       "      <td>...</td>\n",
       "      <td>-4.082222</td>\n",
       "      <td>-0.698889</td>\n",
       "      <td>3.877407</td>\n",
       "      <td>7.563333</td>\n",
       "      <td>9.994074</td>\n",
       "      <td>9.414073</td>\n",
       "      <td>5.837038</td>\n",
       "      <td>1673.0</td>\n",
       "      <td>1514.0</td>\n",
       "      <td>1414.0</td>\n",
       "    </tr>\n",
       "    <tr>\n",
       "      <th rowspan=\"2\" valign=\"top\">RGI60-08.03110</th>\n",
       "      <th>2000-2010</th>\n",
       "      <td>37.763066</td>\n",
       "      <td>0.305</td>\n",
       "      <td>0.0</td>\n",
       "      <td>59.943</td>\n",
       "      <td>148.277472</td>\n",
       "      <td>126.889720</td>\n",
       "      <td>129.939453</td>\n",
       "      <td>133.553872</td>\n",
       "      <td>90.338699</td>\n",
       "      <td>77.386667</td>\n",
       "      <td>...</td>\n",
       "      <td>-6.698148</td>\n",
       "      <td>-2.577778</td>\n",
       "      <td>1.594814</td>\n",
       "      <td>5.834073</td>\n",
       "      <td>8.532963</td>\n",
       "      <td>8.342222</td>\n",
       "      <td>4.602963</td>\n",
       "      <td>1668.0</td>\n",
       "      <td>1615.0</td>\n",
       "      <td>1530.0</td>\n",
       "    </tr>\n",
       "    <tr>\n",
       "      <th>2010-2020</th>\n",
       "      <td>36.658384</td>\n",
       "      <td>0.305</td>\n",
       "      <td>0.0</td>\n",
       "      <td>59.943</td>\n",
       "      <td>135.932491</td>\n",
       "      <td>113.156609</td>\n",
       "      <td>134.333548</td>\n",
       "      <td>105.017949</td>\n",
       "      <td>81.663370</td>\n",
       "      <td>75.986672</td>\n",
       "      <td>...</td>\n",
       "      <td>-6.220370</td>\n",
       "      <td>-2.944444</td>\n",
       "      <td>1.447037</td>\n",
       "      <td>5.711851</td>\n",
       "      <td>8.284074</td>\n",
       "      <td>7.940000</td>\n",
       "      <td>4.670741</td>\n",
       "      <td>1668.0</td>\n",
       "      <td>1615.0</td>\n",
       "      <td>1530.0</td>\n",
       "    </tr>\n",
       "    <tr>\n",
       "      <th>RGI60-08.01106</th>\n",
       "      <th>2000-2010</th>\n",
       "      <td>53.387770</td>\n",
       "      <td>19.779</td>\n",
       "      <td>0.0</td>\n",
       "      <td>61.617</td>\n",
       "      <td>180.333787</td>\n",
       "      <td>183.899261</td>\n",
       "      <td>195.892988</td>\n",
       "      <td>199.060555</td>\n",
       "      <td>130.992370</td>\n",
       "      <td>116.113799</td>\n",
       "      <td>...</td>\n",
       "      <td>-4.854444</td>\n",
       "      <td>-0.917778</td>\n",
       "      <td>3.250370</td>\n",
       "      <td>6.898888</td>\n",
       "      <td>9.590370</td>\n",
       "      <td>9.018148</td>\n",
       "      <td>5.028519</td>\n",
       "      <td>1910.0</td>\n",
       "      <td>1638.0</td>\n",
       "      <td>430.0</td>\n",
       "    </tr>\n",
       "    <tr>\n",
       "      <th>...</th>\n",
       "      <th>...</th>\n",
       "      <td>...</td>\n",
       "      <td>...</td>\n",
       "      <td>...</td>\n",
       "      <td>...</td>\n",
       "      <td>...</td>\n",
       "      <td>...</td>\n",
       "      <td>...</td>\n",
       "      <td>...</td>\n",
       "      <td>...</td>\n",
       "      <td>...</td>\n",
       "      <td>...</td>\n",
       "      <td>...</td>\n",
       "      <td>...</td>\n",
       "      <td>...</td>\n",
       "      <td>...</td>\n",
       "      <td>...</td>\n",
       "      <td>...</td>\n",
       "      <td>...</td>\n",
       "      <td>...</td>\n",
       "      <td>...</td>\n",
       "      <td>...</td>\n",
       "    </tr>\n",
       "    <tr>\n",
       "      <th>RGI60-08.03109</th>\n",
       "      <th>2010-2020</th>\n",
       "      <td>33.282710</td>\n",
       "      <td>0.288</td>\n",
       "      <td>0.0</td>\n",
       "      <td>59.999</td>\n",
       "      <td>135.932491</td>\n",
       "      <td>113.156609</td>\n",
       "      <td>134.333548</td>\n",
       "      <td>105.017949</td>\n",
       "      <td>81.663370</td>\n",
       "      <td>75.986672</td>\n",
       "      <td>...</td>\n",
       "      <td>-6.220370</td>\n",
       "      <td>-2.944444</td>\n",
       "      <td>1.447037</td>\n",
       "      <td>5.711851</td>\n",
       "      <td>8.284074</td>\n",
       "      <td>7.940000</td>\n",
       "      <td>4.670741</td>\n",
       "      <td>1587.0</td>\n",
       "      <td>1521.0</td>\n",
       "      <td>1462.0</td>\n",
       "    </tr>\n",
       "    <tr>\n",
       "      <th rowspan=\"2\" valign=\"top\">RGI60-08.02965</th>\n",
       "      <th>2000-2010</th>\n",
       "      <td>42.184074</td>\n",
       "      <td>1.752</td>\n",
       "      <td>0.0</td>\n",
       "      <td>60.101</td>\n",
       "      <td>154.157938</td>\n",
       "      <td>128.615562</td>\n",
       "      <td>129.586228</td>\n",
       "      <td>120.828673</td>\n",
       "      <td>83.322769</td>\n",
       "      <td>79.926874</td>\n",
       "      <td>...</td>\n",
       "      <td>-5.100000</td>\n",
       "      <td>-1.322222</td>\n",
       "      <td>2.791852</td>\n",
       "      <td>6.651852</td>\n",
       "      <td>9.245927</td>\n",
       "      <td>8.940000</td>\n",
       "      <td>5.318518</td>\n",
       "      <td>1547.0</td>\n",
       "      <td>1458.0</td>\n",
       "      <td>1166.0</td>\n",
       "    </tr>\n",
       "    <tr>\n",
       "      <th>2010-2020</th>\n",
       "      <td>41.223889</td>\n",
       "      <td>1.752</td>\n",
       "      <td>0.0</td>\n",
       "      <td>60.101</td>\n",
       "      <td>142.919021</td>\n",
       "      <td>113.487387</td>\n",
       "      <td>135.393753</td>\n",
       "      <td>93.417569</td>\n",
       "      <td>74.987337</td>\n",
       "      <td>79.277259</td>\n",
       "      <td>...</td>\n",
       "      <td>-4.631111</td>\n",
       "      <td>-1.690000</td>\n",
       "      <td>2.619630</td>\n",
       "      <td>6.515185</td>\n",
       "      <td>8.959260</td>\n",
       "      <td>8.533333</td>\n",
       "      <td>5.367407</td>\n",
       "      <td>1547.0</td>\n",
       "      <td>1458.0</td>\n",
       "      <td>1166.0</td>\n",
       "    </tr>\n",
       "    <tr>\n",
       "      <th rowspan=\"2\" valign=\"top\">RGI60-08.02024</th>\n",
       "      <th>2000-2010</th>\n",
       "      <td>55.978592</td>\n",
       "      <td>0.775</td>\n",
       "      <td>0.0</td>\n",
       "      <td>61.448</td>\n",
       "      <td>219.850909</td>\n",
       "      <td>220.156427</td>\n",
       "      <td>229.581238</td>\n",
       "      <td>233.757319</td>\n",
       "      <td>154.367752</td>\n",
       "      <td>135.158211</td>\n",
       "      <td>...</td>\n",
       "      <td>-3.945926</td>\n",
       "      <td>-0.164444</td>\n",
       "      <td>3.956666</td>\n",
       "      <td>7.525555</td>\n",
       "      <td>10.165555</td>\n",
       "      <td>9.594814</td>\n",
       "      <td>5.826667</td>\n",
       "      <td>1539.0</td>\n",
       "      <td>1448.0</td>\n",
       "      <td>1300.0</td>\n",
       "    </tr>\n",
       "    <tr>\n",
       "      <th>2010-2020</th>\n",
       "      <td>55.339222</td>\n",
       "      <td>0.775</td>\n",
       "      <td>0.0</td>\n",
       "      <td>61.448</td>\n",
       "      <td>217.887660</td>\n",
       "      <td>187.402467</td>\n",
       "      <td>239.439860</td>\n",
       "      <td>172.542368</td>\n",
       "      <td>134.047450</td>\n",
       "      <td>146.167576</td>\n",
       "      <td>...</td>\n",
       "      <td>-3.487037</td>\n",
       "      <td>-0.530000</td>\n",
       "      <td>3.872222</td>\n",
       "      <td>7.386666</td>\n",
       "      <td>9.886667</td>\n",
       "      <td>9.329259</td>\n",
       "      <td>6.045556</td>\n",
       "      <td>1539.0</td>\n",
       "      <td>1448.0</td>\n",
       "      <td>1300.0</td>\n",
       "    </tr>\n",
       "  </tbody>\n",
       "</table>\n",
       "<p>1640 rows × 34 columns</p>\n",
       "</div>"
      ],
      "text/plain": [
       "                                PDD    area  icecap     lat     prcp_01  \\\n",
       "rgi_id         period                                                     \n",
       "RGI60-08.00474 2000-2010  57.423229   0.963     0.0  61.460  180.605754   \n",
       "               2010-2020  56.503103   0.963     0.0  61.460  177.588855   \n",
       "RGI60-08.03110 2000-2010  37.763066   0.305     0.0  59.943  148.277472   \n",
       "               2010-2020  36.658384   0.305     0.0  59.943  135.932491   \n",
       "RGI60-08.01106 2000-2010  53.387770  19.779     0.0  61.617  180.333787   \n",
       "...                             ...     ...     ...     ...         ...   \n",
       "RGI60-08.03109 2010-2020  33.282710   0.288     0.0  59.999  135.932491   \n",
       "RGI60-08.02965 2000-2010  42.184074   1.752     0.0  60.101  154.157938   \n",
       "               2010-2020  41.223889   1.752     0.0  60.101  142.919021   \n",
       "RGI60-08.02024 2000-2010  55.978592   0.775     0.0  61.448  219.850909   \n",
       "               2010-2020  55.339222   0.775     0.0  61.448  217.887660   \n",
       "\n",
       "                             prcp_02     prcp_03     prcp_04     prcp_05  \\\n",
       "rgi_id         period                                                      \n",
       "RGI60-08.00474 2000-2010  179.220350  189.276083  193.833619  125.218186   \n",
       "               2010-2020  152.698084  197.095410  143.539612  109.205440   \n",
       "RGI60-08.03110 2000-2010  126.889720  129.939453  133.553872   90.338699   \n",
       "               2010-2020  113.156609  134.333548  105.017949   81.663370   \n",
       "RGI60-08.01106 2000-2010  183.899261  195.892988  199.060555  130.992370   \n",
       "...                              ...         ...         ...         ...   \n",
       "RGI60-08.03109 2010-2020  113.156609  134.333548  105.017949   81.663370   \n",
       "RGI60-08.02965 2000-2010  128.615562  129.586228  120.828673   83.322769   \n",
       "               2010-2020  113.487387  135.393753   93.417569   74.987337   \n",
       "RGI60-08.02024 2000-2010  220.156427  229.581238  233.757319  154.367752   \n",
       "               2010-2020  187.402467  239.439860  172.542368  134.047450   \n",
       "\n",
       "                             prcp_06  ...   temp_06   temp_07   temp_08  \\\n",
       "rgi_id         period                 ...                                 \n",
       "RGI60-08.00474 2000-2010  110.821174  ... -4.546667 -0.331111  3.950740   \n",
       "               2010-2020  119.362232  ... -4.082222 -0.698889  3.877407   \n",
       "RGI60-08.03110 2000-2010   77.386667  ... -6.698148 -2.577778  1.594814   \n",
       "               2010-2020   75.986672  ... -6.220370 -2.944444  1.447037   \n",
       "RGI60-08.01106 2000-2010  116.113799  ... -4.854444 -0.917778  3.250370   \n",
       "...                              ...  ...       ...       ...       ...   \n",
       "RGI60-08.03109 2010-2020   75.986672  ... -6.220370 -2.944444  1.447037   \n",
       "RGI60-08.02965 2000-2010   79.926874  ... -5.100000 -1.322222  2.791852   \n",
       "               2010-2020   79.277259  ... -4.631111 -1.690000  2.619630   \n",
       "RGI60-08.02024 2000-2010  135.158211  ... -3.945926 -0.164444  3.956666   \n",
       "               2010-2020  146.167576  ... -3.487037 -0.530000  3.872222   \n",
       "\n",
       "                           temp_09    temp_10   temp_11   temp_12    zmax  \\\n",
       "rgi_id         period                                                       \n",
       "RGI60-08.00474 2000-2010  7.704444  10.274074  9.710740  5.632594  1673.0   \n",
       "               2010-2020  7.563333   9.994074  9.414073  5.837038  1673.0   \n",
       "RGI60-08.03110 2000-2010  5.834073   8.532963  8.342222  4.602963  1668.0   \n",
       "               2010-2020  5.711851   8.284074  7.940000  4.670741  1668.0   \n",
       "RGI60-08.01106 2000-2010  6.898888   9.590370  9.018148  5.028519  1910.0   \n",
       "...                            ...        ...       ...       ...     ...   \n",
       "RGI60-08.03109 2010-2020  5.711851   8.284074  7.940000  4.670741  1587.0   \n",
       "RGI60-08.02965 2000-2010  6.651852   9.245927  8.940000  5.318518  1547.0   \n",
       "               2010-2020  6.515185   8.959260  8.533333  5.367407  1547.0   \n",
       "RGI60-08.02024 2000-2010  7.525555  10.165555  9.594814  5.826667  1539.0   \n",
       "               2010-2020  7.386666   9.886667  9.329259  6.045556  1539.0   \n",
       "\n",
       "                            zmed    zmin  \n",
       "rgi_id         period                     \n",
       "RGI60-08.00474 2000-2010  1514.0  1414.0  \n",
       "               2010-2020  1514.0  1414.0  \n",
       "RGI60-08.03110 2000-2010  1615.0  1530.0  \n",
       "               2010-2020  1615.0  1530.0  \n",
       "RGI60-08.01106 2000-2010  1638.0   430.0  \n",
       "...                          ...     ...  \n",
       "RGI60-08.03109 2010-2020  1521.0  1462.0  \n",
       "RGI60-08.02965 2000-2010  1458.0  1166.0  \n",
       "               2010-2020  1458.0  1166.0  \n",
       "RGI60-08.02024 2000-2010  1448.0  1300.0  \n",
       "               2010-2020  1448.0  1300.0  \n",
       "\n",
       "[1640 rows x 34 columns]"
      ]
     },
     "execution_count": 7,
     "metadata": {},
     "output_type": "execute_result"
    }
   ],
   "source": [
    "df_train_X"
   ]
  },
  {
   "cell_type": "markdown",
   "id": "89bab83f-5a5c-4b73-8364-7ff2550b247a",
   "metadata": {
    "user_expressions": []
   },
   "source": [
    "## 3.2 Training a model \n",
    "\n",
    "The `sklearn` package includes multiple regression models we can try on the dataset. One of the advantages of using `sklearn` is that the syntax and logic is shared among different algorithms, making easy to try and compare different models. The [sklearn documentation](https://scikit-learn.org/stable/auto_examples/index.html#examples) includes multiple of these examples that are worth exploring. \n",
    "\n",
    "Some regression methods to explore include\n",
    "1. Classical continuous regression approaches: linear regression, logistic regression, support vector machines.\n",
    "1. Tree-based regression: decision trees, random forest, ensemble methods based on boosting.\n",
    "1. Neural networks.\n",
    "\n",
    "The following plot function will be useful in order to report the performance of the different models."
   ]
  },
  {
   "cell_type": "code",
   "execution_count": 8,
   "id": "034abd1f-bbe3-46a8-9612-4758874a2f8d",
   "metadata": {},
   "outputs": [],
   "source": [
    "def plot_prediction(y1, y2, n_toplot=10**10):\n",
    "    \n",
    "    from scipy.stats import gaussian_kde\n",
    "    from sklearn.metrics import r2_score, mean_squared_error\n",
    "    \n",
    "    idxs = np.arange(len(y1))\n",
    "    np.random.shuffle(idxs)\n",
    "    \n",
    "    y_expected = y1.reshape(-1)[idxs[:n_toplot]]\n",
    "    y_predicted = y2.reshape(-1)[idxs[:n_toplot]]\n",
    "\n",
    "    xy = np.vstack([y_expected, y_predicted])\n",
    "    z = gaussian_kde(xy)(xy)\n",
    "    # Sort the points by density, so that the densest points are plotted last\n",
    "    idx = z.argsort()\n",
    "    y_plt, ann_plt, z = y_expected[idx], y_predicted[idx], z[idx]\n",
    "    \n",
    "    plt.figure(figsize=(8,8))\n",
    "    plt.title(\"Model Evaluation\", fontsize=17)\n",
    "    plt.ylabel('Modeled SMB (m.w.e)', fontsize=16)\n",
    "    plt.xlabel('Reference SMB (m.w.e)', fontsize=16)\n",
    "    sc = plt.scatter(y_plt, ann_plt, c=z, s=20)\n",
    "    plt.clim(0,0.4)\n",
    "    plt.tick_params(labelsize=14)\n",
    "    plt.colorbar(sc) \n",
    "    lineStart = -2.5\n",
    "    lineEnd = 1.5\n",
    "    plt.plot([lineStart, lineEnd], [lineStart, lineEnd], 'k-')\n",
    "    plt.axvline(0.0, ls='-.', c='k')\n",
    "    plt.axhline(0.0, ls='-.', c='k')\n",
    "    plt.xlim(lineStart, lineEnd)\n",
    "    plt.ylim(lineStart, lineEnd)\n",
    "    plt.gca().set_box_aspect(1)\n",
    "    \n",
    "    textstr = '\\n'.join((\n",
    "    r'$RMSE=%.2f$' % (mean_squared_error(y_expected, y_predicted), ),\n",
    "    r'$R^2=%.2f$' % (r2_score(y_expected, y_predicted), )))\n",
    "    props = dict(boxstyle='round', facecolor='wheat', alpha=0.5)\n",
    "    # place a text box in upper left in axes coords\n",
    "    plt.text(0.05, 0.95, textstr, transform=plt.gca().transAxes, fontsize=14,\n",
    "            verticalalignment='top', bbox=props)\n",
    "    \n",
    "    plt.show()"
   ]
  },
  {
   "cell_type": "markdown",
   "id": "be9c59ff-2c11-4a5b-82b4-49cf2585cafa",
   "metadata": {
    "user_expressions": []
   },
   "source": [
    "### 3.2.1. Linear Regression"
   ]
  },
  {
   "cell_type": "markdown",
   "id": "640b5ee8-9c17-4942-b6c5-318e3d4cbae6",
   "metadata": {
    "user_expressions": []
   },
   "source": [
    "Linear regression is the most basic type of regression we can use in our dataset. Therefore, it represents the baseline model on which to compare the rest. In this section we will use `ElasticNet`, a linear regression with combined $L_1$ and $L_2$ regularization terms.\n",
    "\n",
    "```{note}\n",
    "If you would like to better understand linear regression and regularization, we highly recommend taking a look at [this wonderful Notebook](https://machine-learning-in-glaciology-workshop.github.io/Lecture-materials/Stats/linear_regression.html) that Ellie Abrahams prepared for this workshop. \n",
    "```"
   ]
  },
  {
   "cell_type": "code",
   "execution_count": 9,
   "id": "57cfdfb9-56ad-4927-9c3e-456c069556a7",
   "metadata": {},
   "outputs": [],
   "source": [
    "from sklearn.preprocessing import StandardScaler\n",
    "from sklearn.linear_model import ElasticNet"
   ]
  },
  {
   "cell_type": "markdown",
   "id": "bebc50b4-6c08-4c9f-8f7f-bc35c72b32b1",
   "metadata": {
    "user_expressions": []
   },
   "source": [
    "For linear regression and many other methods, we will scale the data to have zero mean and unit variance."
   ]
  },
  {
   "cell_type": "code",
   "execution_count": 10,
   "id": "ac950941-d906-440e-a0de-970cc65c2fb2",
   "metadata": {},
   "outputs": [
    {
     "data": {
      "text/html": [
       "<style>#sk-container-id-1 {color: black;background-color: white;}#sk-container-id-1 pre{padding: 0;}#sk-container-id-1 div.sk-toggleable {background-color: white;}#sk-container-id-1 label.sk-toggleable__label {cursor: pointer;display: block;width: 100%;margin-bottom: 0;padding: 0.3em;box-sizing: border-box;text-align: center;}#sk-container-id-1 label.sk-toggleable__label-arrow:before {content: \"▸\";float: left;margin-right: 0.25em;color: #696969;}#sk-container-id-1 label.sk-toggleable__label-arrow:hover:before {color: black;}#sk-container-id-1 div.sk-estimator:hover label.sk-toggleable__label-arrow:before {color: black;}#sk-container-id-1 div.sk-toggleable__content {max-height: 0;max-width: 0;overflow: hidden;text-align: left;background-color: #f0f8ff;}#sk-container-id-1 div.sk-toggleable__content pre {margin: 0.2em;color: black;border-radius: 0.25em;background-color: #f0f8ff;}#sk-container-id-1 input.sk-toggleable__control:checked~div.sk-toggleable__content {max-height: 200px;max-width: 100%;overflow: auto;}#sk-container-id-1 input.sk-toggleable__control:checked~label.sk-toggleable__label-arrow:before {content: \"▾\";}#sk-container-id-1 div.sk-estimator input.sk-toggleable__control:checked~label.sk-toggleable__label {background-color: #d4ebff;}#sk-container-id-1 div.sk-label input.sk-toggleable__control:checked~label.sk-toggleable__label {background-color: #d4ebff;}#sk-container-id-1 input.sk-hidden--visually {border: 0;clip: rect(1px 1px 1px 1px);clip: rect(1px, 1px, 1px, 1px);height: 1px;margin: -1px;overflow: hidden;padding: 0;position: absolute;width: 1px;}#sk-container-id-1 div.sk-estimator {font-family: monospace;background-color: #f0f8ff;border: 1px dotted black;border-radius: 0.25em;box-sizing: border-box;margin-bottom: 0.5em;}#sk-container-id-1 div.sk-estimator:hover {background-color: #d4ebff;}#sk-container-id-1 div.sk-parallel-item::after {content: \"\";width: 100%;border-bottom: 1px solid gray;flex-grow: 1;}#sk-container-id-1 div.sk-label:hover label.sk-toggleable__label {background-color: #d4ebff;}#sk-container-id-1 div.sk-serial::before {content: \"\";position: absolute;border-left: 1px solid gray;box-sizing: border-box;top: 0;bottom: 0;left: 50%;z-index: 0;}#sk-container-id-1 div.sk-serial {display: flex;flex-direction: column;align-items: center;background-color: white;padding-right: 0.2em;padding-left: 0.2em;position: relative;}#sk-container-id-1 div.sk-item {position: relative;z-index: 1;}#sk-container-id-1 div.sk-parallel {display: flex;align-items: stretch;justify-content: center;background-color: white;position: relative;}#sk-container-id-1 div.sk-item::before, #sk-container-id-1 div.sk-parallel-item::before {content: \"\";position: absolute;border-left: 1px solid gray;box-sizing: border-box;top: 0;bottom: 0;left: 50%;z-index: -1;}#sk-container-id-1 div.sk-parallel-item {display: flex;flex-direction: column;z-index: 1;position: relative;background-color: white;}#sk-container-id-1 div.sk-parallel-item:first-child::after {align-self: flex-end;width: 50%;}#sk-container-id-1 div.sk-parallel-item:last-child::after {align-self: flex-start;width: 50%;}#sk-container-id-1 div.sk-parallel-item:only-child::after {width: 0;}#sk-container-id-1 div.sk-dashed-wrapped {border: 1px dashed gray;margin: 0 0.4em 0.5em 0.4em;box-sizing: border-box;padding-bottom: 0.4em;background-color: white;}#sk-container-id-1 div.sk-label label {font-family: monospace;font-weight: bold;display: inline-block;line-height: 1.2em;}#sk-container-id-1 div.sk-label-container {text-align: center;}#sk-container-id-1 div.sk-container {/* jupyter's `normalize.less` sets `[hidden] { display: none; }` but bootstrap.min.css set `[hidden] { display: none !important; }` so we also need the `!important` here to be able to override the default hidden behavior on the sphinx rendered scikit-learn.org. See: https://github.com/scikit-learn/scikit-learn/issues/21755 */display: inline-block !important;position: relative;}#sk-container-id-1 div.sk-text-repr-fallback {display: none;}</style><div id=\"sk-container-id-1\" class=\"sk-top-container\"><div class=\"sk-text-repr-fallback\"><pre>StandardScaler()</pre><b>In a Jupyter environment, please rerun this cell to show the HTML representation or trust the notebook. <br />On GitHub, the HTML representation is unable to render, please try loading this page with nbviewer.org.</b></div><div class=\"sk-container\" hidden><div class=\"sk-item\"><div class=\"sk-estimator sk-toggleable\"><input class=\"sk-toggleable__control sk-hidden--visually\" id=\"sk-estimator-id-1\" type=\"checkbox\" checked><label for=\"sk-estimator-id-1\" class=\"sk-toggleable__label sk-toggleable__label-arrow\">StandardScaler</label><div class=\"sk-toggleable__content\"><pre>StandardScaler()</pre></div></div></div></div></div>"
      ],
      "text/plain": [
       "StandardScaler()"
      ]
     },
     "execution_count": 10,
     "metadata": {},
     "output_type": "execute_result"
    }
   ],
   "source": [
    "scaler = StandardScaler()\n",
    "scaler.fit(X_train)"
   ]
  },
  {
   "cell_type": "code",
   "execution_count": 11,
   "id": "3d2362ff-0d51-400c-a9d5-20880b0f0780",
   "metadata": {},
   "outputs": [],
   "source": [
    "X_train_scaled = scaler.transform(X_train)\n",
    "X_validation_scaled = scaler.transform(X_validation)"
   ]
  },
  {
   "cell_type": "markdown",
   "id": "a006f8ef-3186-494b-a45d-d82eb6065d05",
   "metadata": {
    "user_expressions": []
   },
   "source": [
    "ElasticNet is a linear regression model that includes the classical ordinary least square error estimator (`alpha=0.0`), Lasso (`l1_ratio=1`) and Ridge (`l1_ratio=0`) regression in one single method. \n",
    "\n",
    "Here, we are going to fit an `ElasticNet` model to our train dataset, with the following hyperparameters."
   ]
  },
  {
   "cell_type": "code",
   "execution_count": 12,
   "id": "83032493-72ef-40be-8a95-b87844a10278",
   "metadata": {},
   "outputs": [
    {
     "name": "stdout",
     "output_type": "stream",
     "text": [
      "CPU times: user 2 µs, sys: 0 ns, total: 2 µs\n",
      "Wall time: 5.25 µs\n"
     ]
    },
    {
     "data": {
      "text/html": [
       "<style>#sk-container-id-2 {color: black;background-color: white;}#sk-container-id-2 pre{padding: 0;}#sk-container-id-2 div.sk-toggleable {background-color: white;}#sk-container-id-2 label.sk-toggleable__label {cursor: pointer;display: block;width: 100%;margin-bottom: 0;padding: 0.3em;box-sizing: border-box;text-align: center;}#sk-container-id-2 label.sk-toggleable__label-arrow:before {content: \"▸\";float: left;margin-right: 0.25em;color: #696969;}#sk-container-id-2 label.sk-toggleable__label-arrow:hover:before {color: black;}#sk-container-id-2 div.sk-estimator:hover label.sk-toggleable__label-arrow:before {color: black;}#sk-container-id-2 div.sk-toggleable__content {max-height: 0;max-width: 0;overflow: hidden;text-align: left;background-color: #f0f8ff;}#sk-container-id-2 div.sk-toggleable__content pre {margin: 0.2em;color: black;border-radius: 0.25em;background-color: #f0f8ff;}#sk-container-id-2 input.sk-toggleable__control:checked~div.sk-toggleable__content {max-height: 200px;max-width: 100%;overflow: auto;}#sk-container-id-2 input.sk-toggleable__control:checked~label.sk-toggleable__label-arrow:before {content: \"▾\";}#sk-container-id-2 div.sk-estimator input.sk-toggleable__control:checked~label.sk-toggleable__label {background-color: #d4ebff;}#sk-container-id-2 div.sk-label input.sk-toggleable__control:checked~label.sk-toggleable__label {background-color: #d4ebff;}#sk-container-id-2 input.sk-hidden--visually {border: 0;clip: rect(1px 1px 1px 1px);clip: rect(1px, 1px, 1px, 1px);height: 1px;margin: -1px;overflow: hidden;padding: 0;position: absolute;width: 1px;}#sk-container-id-2 div.sk-estimator {font-family: monospace;background-color: #f0f8ff;border: 1px dotted black;border-radius: 0.25em;box-sizing: border-box;margin-bottom: 0.5em;}#sk-container-id-2 div.sk-estimator:hover {background-color: #d4ebff;}#sk-container-id-2 div.sk-parallel-item::after {content: \"\";width: 100%;border-bottom: 1px solid gray;flex-grow: 1;}#sk-container-id-2 div.sk-label:hover label.sk-toggleable__label {background-color: #d4ebff;}#sk-container-id-2 div.sk-serial::before {content: \"\";position: absolute;border-left: 1px solid gray;box-sizing: border-box;top: 0;bottom: 0;left: 50%;z-index: 0;}#sk-container-id-2 div.sk-serial {display: flex;flex-direction: column;align-items: center;background-color: white;padding-right: 0.2em;padding-left: 0.2em;position: relative;}#sk-container-id-2 div.sk-item {position: relative;z-index: 1;}#sk-container-id-2 div.sk-parallel {display: flex;align-items: stretch;justify-content: center;background-color: white;position: relative;}#sk-container-id-2 div.sk-item::before, #sk-container-id-2 div.sk-parallel-item::before {content: \"\";position: absolute;border-left: 1px solid gray;box-sizing: border-box;top: 0;bottom: 0;left: 50%;z-index: -1;}#sk-container-id-2 div.sk-parallel-item {display: flex;flex-direction: column;z-index: 1;position: relative;background-color: white;}#sk-container-id-2 div.sk-parallel-item:first-child::after {align-self: flex-end;width: 50%;}#sk-container-id-2 div.sk-parallel-item:last-child::after {align-self: flex-start;width: 50%;}#sk-container-id-2 div.sk-parallel-item:only-child::after {width: 0;}#sk-container-id-2 div.sk-dashed-wrapped {border: 1px dashed gray;margin: 0 0.4em 0.5em 0.4em;box-sizing: border-box;padding-bottom: 0.4em;background-color: white;}#sk-container-id-2 div.sk-label label {font-family: monospace;font-weight: bold;display: inline-block;line-height: 1.2em;}#sk-container-id-2 div.sk-label-container {text-align: center;}#sk-container-id-2 div.sk-container {/* jupyter's `normalize.less` sets `[hidden] { display: none; }` but bootstrap.min.css set `[hidden] { display: none !important; }` so we also need the `!important` here to be able to override the default hidden behavior on the sphinx rendered scikit-learn.org. See: https://github.com/scikit-learn/scikit-learn/issues/21755 */display: inline-block !important;position: relative;}#sk-container-id-2 div.sk-text-repr-fallback {display: none;}</style><div id=\"sk-container-id-2\" class=\"sk-top-container\"><div class=\"sk-text-repr-fallback\"><pre>ElasticNet(alpha=0.001, l1_ratio=0.8, random_state=666)</pre><b>In a Jupyter environment, please rerun this cell to show the HTML representation or trust the notebook. <br />On GitHub, the HTML representation is unable to render, please try loading this page with nbviewer.org.</b></div><div class=\"sk-container\" hidden><div class=\"sk-item\"><div class=\"sk-estimator sk-toggleable\"><input class=\"sk-toggleable__control sk-hidden--visually\" id=\"sk-estimator-id-2\" type=\"checkbox\" checked><label for=\"sk-estimator-id-2\" class=\"sk-toggleable__label sk-toggleable__label-arrow\">ElasticNet</label><div class=\"sk-toggleable__content\"><pre>ElasticNet(alpha=0.001, l1_ratio=0.8, random_state=666)</pre></div></div></div></div></div>"
      ],
      "text/plain": [
       "ElasticNet(alpha=0.001, l1_ratio=0.8, random_state=666)"
      ]
     },
     "execution_count": 12,
     "metadata": {},
     "output_type": "execute_result"
    }
   ],
   "source": [
    "%time\n",
    "reg_linear = ElasticNet(alpha=0.001,\n",
    "                        l1_ratio=0.8,\n",
    "                        fit_intercept=True, \n",
    "                        random_state=666)\n",
    "reg_linear.fit(X_train_scaled, y_train)"
   ]
  },
  {
   "cell_type": "code",
   "execution_count": 13,
   "id": "f853177b-d13d-4fcf-a937-b6cff4177b2b",
   "metadata": {},
   "outputs": [
    {
     "data": {
      "image/png": "[encoded data removed]",
      "text/plain": [
       "<Figure size 576x576 with 2 Axes>"
      ]
     },
     "metadata": {
      "needs_background": "light"
     },
     "output_type": "display_data"
    }
   ],
   "source": [
    "plot_prediction(y_train, reg_linear.predict(X_train_scaled), n_toplot=5000)"
   ]
  },
  {
   "cell_type": "markdown",
   "id": "57f622d6-db48-4c32-ba5a-4b9ae4995c36",
   "metadata": {},
   "source": [
    "We can see that performance is not great, since we haven't done any hyperparameter selection. We will leave that for the following notebook, and here we'll just focus on having an overview of all the methods and their particular hyperparameters. "
   ]
  },
  {
   "cell_type": "markdown",
   "id": "491ae1fc-67e1-434d-89df-285bff0c7979",
   "metadata": {
    "user_expressions": []
   },
   "source": [
    "### 3.2.2. Decision Tree Regression"
   ]
  },
  {
   "cell_type": "markdown",
   "id": "fdaad195-a4ef-47e0-bf23-6c6d21af51b9",
   "metadata": {
    "user_expressions": []
   },
   "source": [
    "Decision trees are non-parametric supervised learning methods. The objective of this method is to generate a model that predicts the value of a target variable by learning simple decision rules inferred from the data features. A tree can be seen as a piecewise constant approximation.\n",
    "\n",
    "For more details, you can read the [`sklearn` documentation](https://scikit-learn.org/stable/modules/tree.html#tree). "
   ]
  },
  {
   "cell_type": "code",
   "execution_count": 14,
   "id": "0bae097f-bec0-4149-8af0-dd247db6313e",
   "metadata": {},
   "outputs": [],
   "source": [
    "from sklearn.tree import DecisionTreeRegressor\n",
    "from sklearn.metrics import mean_squared_error"
   ]
  },
  {
   "cell_type": "markdown",
   "id": "82fb9bfd-7e6e-4c10-ad67-5c8d8a43d460",
   "metadata": {
    "user_expressions": []
   },
   "source": [
    "For now, we will just fill some of the hyperparameters to see how it behaves. "
   ]
  },
  {
   "cell_type": "code",
   "execution_count": 15,
   "id": "cb8e40d0-edf4-4e7c-9be9-e3c39be02a16",
   "metadata": {},
   "outputs": [
    {
     "name": "stdout",
     "output_type": "stream",
     "text": [
      "CPU times: user 17.9 ms, sys: 707 µs, total: 18.6 ms\n",
      "Wall time: 18.1 ms\n"
     ]
    },
    {
     "data": {
      "text/html": [
       "<style>#sk-container-id-3 {color: black;background-color: white;}#sk-container-id-3 pre{padding: 0;}#sk-container-id-3 div.sk-toggleable {background-color: white;}#sk-container-id-3 label.sk-toggleable__label {cursor: pointer;display: block;width: 100%;margin-bottom: 0;padding: 0.3em;box-sizing: border-box;text-align: center;}#sk-container-id-3 label.sk-toggleable__label-arrow:before {content: \"▸\";float: left;margin-right: 0.25em;color: #696969;}#sk-container-id-3 label.sk-toggleable__label-arrow:hover:before {color: black;}#sk-container-id-3 div.sk-estimator:hover label.sk-toggleable__label-arrow:before {color: black;}#sk-container-id-3 div.sk-toggleable__content {max-height: 0;max-width: 0;overflow: hidden;text-align: left;background-color: #f0f8ff;}#sk-container-id-3 div.sk-toggleable__content pre {margin: 0.2em;color: black;border-radius: 0.25em;background-color: #f0f8ff;}#sk-container-id-3 input.sk-toggleable__control:checked~div.sk-toggleable__content {max-height: 200px;max-width: 100%;overflow: auto;}#sk-container-id-3 input.sk-toggleable__control:checked~label.sk-toggleable__label-arrow:before {content: \"▾\";}#sk-container-id-3 div.sk-estimator input.sk-toggleable__control:checked~label.sk-toggleable__label {background-color: #d4ebff;}#sk-container-id-3 div.sk-label input.sk-toggleable__control:checked~label.sk-toggleable__label {background-color: #d4ebff;}#sk-container-id-3 input.sk-hidden--visually {border: 0;clip: rect(1px 1px 1px 1px);clip: rect(1px, 1px, 1px, 1px);height: 1px;margin: -1px;overflow: hidden;padding: 0;position: absolute;width: 1px;}#sk-container-id-3 div.sk-estimator {font-family: monospace;background-color: #f0f8ff;border: 1px dotted black;border-radius: 0.25em;box-sizing: border-box;margin-bottom: 0.5em;}#sk-container-id-3 div.sk-estimator:hover {background-color: #d4ebff;}#sk-container-id-3 div.sk-parallel-item::after {content: \"\";width: 100%;border-bottom: 1px solid gray;flex-grow: 1;}#sk-container-id-3 div.sk-label:hover label.sk-toggleable__label {background-color: #d4ebff;}#sk-container-id-3 div.sk-serial::before {content: \"\";position: absolute;border-left: 1px solid gray;box-sizing: border-box;top: 0;bottom: 0;left: 50%;z-index: 0;}#sk-container-id-3 div.sk-serial {display: flex;flex-direction: column;align-items: center;background-color: white;padding-right: 0.2em;padding-left: 0.2em;position: relative;}#sk-container-id-3 div.sk-item {position: relative;z-index: 1;}#sk-container-id-3 div.sk-parallel {display: flex;align-items: stretch;justify-content: center;background-color: white;position: relative;}#sk-container-id-3 div.sk-item::before, #sk-container-id-3 div.sk-parallel-item::before {content: \"\";position: absolute;border-left: 1px solid gray;box-sizing: border-box;top: 0;bottom: 0;left: 50%;z-index: -1;}#sk-container-id-3 div.sk-parallel-item {display: flex;flex-direction: column;z-index: 1;position: relative;background-color: white;}#sk-container-id-3 div.sk-parallel-item:first-child::after {align-self: flex-end;width: 50%;}#sk-container-id-3 div.sk-parallel-item:last-child::after {align-self: flex-start;width: 50%;}#sk-container-id-3 div.sk-parallel-item:only-child::after {width: 0;}#sk-container-id-3 div.sk-dashed-wrapped {border: 1px dashed gray;margin: 0 0.4em 0.5em 0.4em;box-sizing: border-box;padding-bottom: 0.4em;background-color: white;}#sk-container-id-3 div.sk-label label {font-family: monospace;font-weight: bold;display: inline-block;line-height: 1.2em;}#sk-container-id-3 div.sk-label-container {text-align: center;}#sk-container-id-3 div.sk-container {/* jupyter's `normalize.less` sets `[hidden] { display: none; }` but bootstrap.min.css set `[hidden] { display: none !important; }` so we also need the `!important` here to be able to override the default hidden behavior on the sphinx rendered scikit-learn.org. See: https://github.com/scikit-learn/scikit-learn/issues/21755 */display: inline-block !important;position: relative;}#sk-container-id-3 div.sk-text-repr-fallback {display: none;}</style><div id=\"sk-container-id-3\" class=\"sk-top-container\"><div class=\"sk-text-repr-fallback\"><pre>DecisionTreeRegressor(max_depth=5, min_samples_split=5, random_state=0)</pre><b>In a Jupyter environment, please rerun this cell to show the HTML representation or trust the notebook. <br />On GitHub, the HTML representation is unable to render, please try loading this page with nbviewer.org.</b></div><div class=\"sk-container\" hidden><div class=\"sk-item\"><div class=\"sk-estimator sk-toggleable\"><input class=\"sk-toggleable__control sk-hidden--visually\" id=\"sk-estimator-id-3\" type=\"checkbox\" checked><label for=\"sk-estimator-id-3\" class=\"sk-toggleable__label sk-toggleable__label-arrow\">DecisionTreeRegressor</label><div class=\"sk-toggleable__content\"><pre>DecisionTreeRegressor(max_depth=5, min_samples_split=5, random_state=0)</pre></div></div></div></div></div>"
      ],
      "text/plain": [
       "DecisionTreeRegressor(max_depth=5, min_samples_split=5, random_state=0)"
      ]
     },
     "execution_count": 15,
     "metadata": {},
     "output_type": "execute_result"
    }
   ],
   "source": [
    "%%time\n",
    "reg_tree = DecisionTreeRegressor(random_state=0, \n",
    "                                 max_depth=5, \n",
    "                                 min_samples_split=5)\n",
    "reg_tree.fit(X_train, y_train)"
   ]
  },
  {
   "cell_type": "code",
   "execution_count": 16,
   "id": "3e99c00f-e19f-451e-8122-03837369462f",
   "metadata": {},
   "outputs": [
    {
     "data": {
      "image/png": "[encoded data removed]",
      "text/plain": [
       "<Figure size 576x576 with 2 Axes>"
      ]
     },
     "metadata": {
      "needs_background": "light"
     },
     "output_type": "display_data"
    }
   ],
   "source": [
    "plot_prediction(y_train, reg_tree.predict(X_train), n_toplot=5000)"
   ]
  },
  {
   "cell_type": "markdown",
   "id": "4a1e70f2-1c9e-42a1-aa05-6db250b6075a",
   "metadata": {
    "user_expressions": []
   },
   "source": [
    "Again, we can see performance is not good at all, since we still need to do a proper search of hyperparameters. "
   ]
  },
  {
   "cell_type": "markdown",
   "id": "a01e6d97-d4e6-43a1-ba72-863fd8726289",
   "metadata": {
    "user_expressions": []
   },
   "source": [
    "### 3.2.3. Ensemble of trees\n",
    "\n",
    "We can try examples of models that combine slow learners. These models tend to work very well and be quite general. However, tuning the different hyperparameters of the model can be tricky and something that will be explored in detail in the next notebook. \n",
    "\n",
    "These methods are [particularly powerful for tabular data](https://arxiv.org/abs/2207.08815), the exact type of data that we have here in this project. We will be using two of the best tree ensemble methods: Random Forest and Gradient Boosting. Here you can find an example based on [Gradient boosting regression](https://scikit-learn.org/stable/auto_examples/ensemble/plot_gradient_boosting_regression.html#sphx-glr-auto-examples-ensemble-plot-gradient-boosting-regression-py)."
   ]
  },
  {
   "cell_type": "code",
   "execution_count": 17,
   "id": "285c868a-3705-479b-9fcb-8dc7379d3422",
   "metadata": {},
   "outputs": [],
   "source": [
    "from sklearn import ensemble\n",
    "from sklearn.inspection import permutation_importance"
   ]
  },
  {
   "cell_type": "markdown",
   "id": "e9d6aa44-48ab-4bff-b3eb-0bd1d53e15a5",
   "metadata": {
    "user_expressions": []
   },
   "source": [
    "As you can see, here we start having a greater amount of hypereparameters. Therefore, doing a good hyperparameter selection will be crucial for this methods to correctly fit the data in validation. "
   ]
  },
  {
   "cell_type": "code",
   "execution_count": 18,
   "id": "f356587a-0f9b-4a08-98ed-fc657dd3c0fc",
   "metadata": {},
   "outputs": [],
   "source": [
    "#model = 'random forest'\n",
    "model = 'gradient boosting'\n",
    "\n",
    "if model == 'gradient boosting':\n",
    "\n",
    "    params = {\n",
    "        \"n_estimators\": 300,\n",
    "        \"max_depth\": 4,\n",
    "        \"min_samples_split\": 5,\n",
    "        \"learning_rate\": 0.1,\n",
    "        \"loss\": 'huber', #\"squared_error\",\n",
    "        \"validation_fraction\": 0.2\n",
    "    }\n",
    "    reg_ensemble = ensemble.GradientBoostingRegressor(**params)\n",
    "    \n",
    "elif model == 'random forest':\n",
    "    \n",
    "    params = {\n",
    "        \"n_estimators\": 300,\n",
    "        \"max_depth\": 4,\n",
    "        \"min_samples_split\": 5,\n",
    "        \"criterion\": \"absolute_error\",\n",
    "        'max_features': 10,\n",
    "    }\n",
    "    reg_ensemble = ensemble.RandomForestRegressor(**params)"
   ]
  },
  {
   "cell_type": "code",
   "execution_count": 19,
   "id": "242d36ac-f984-4052-b207-ddd1d48e5cbc",
   "metadata": {},
   "outputs": [
    {
     "name": "stderr",
     "output_type": "stream",
     "text": [
      "/home/jovyan/.conda/envs/oggm_env/lib/python3.9/site-packages/sklearn/ensemble/_gb.py:570: DataConversionWarning: A column-vector y was passed when a 1d array was expected. Please change the shape of y to (n_samples, ), for example using ravel().\n",
      "  y = column_or_1d(y, warn=True)\n"
     ]
    },
    {
     "name": "stdout",
     "output_type": "stream",
     "text": [
      "CPU times: user 5.23 s, sys: 6.27 ms, total: 5.23 s\n",
      "Wall time: 5.24 s\n"
     ]
    },
    {
     "data": {
      "text/html": [
       "<style>#sk-container-id-4 {color: black;background-color: white;}#sk-container-id-4 pre{padding: 0;}#sk-container-id-4 div.sk-toggleable {background-color: white;}#sk-container-id-4 label.sk-toggleable__label {cursor: pointer;display: block;width: 100%;margin-bottom: 0;padding: 0.3em;box-sizing: border-box;text-align: center;}#sk-container-id-4 label.sk-toggleable__label-arrow:before {content: \"▸\";float: left;margin-right: 0.25em;color: #696969;}#sk-container-id-4 label.sk-toggleable__label-arrow:hover:before {color: black;}#sk-container-id-4 div.sk-estimator:hover label.sk-toggleable__label-arrow:before {color: black;}#sk-container-id-4 div.sk-toggleable__content {max-height: 0;max-width: 0;overflow: hidden;text-align: left;background-color: #f0f8ff;}#sk-container-id-4 div.sk-toggleable__content pre {margin: 0.2em;color: black;border-radius: 0.25em;background-color: #f0f8ff;}#sk-container-id-4 input.sk-toggleable__control:checked~div.sk-toggleable__content {max-height: 200px;max-width: 100%;overflow: auto;}#sk-container-id-4 input.sk-toggleable__control:checked~label.sk-toggleable__label-arrow:before {content: \"▾\";}#sk-container-id-4 div.sk-estimator input.sk-toggleable__control:checked~label.sk-toggleable__label {background-color: #d4ebff;}#sk-container-id-4 div.sk-label input.sk-toggleable__control:checked~label.sk-toggleable__label {background-color: #d4ebff;}#sk-container-id-4 input.sk-hidden--visually {border: 0;clip: rect(1px 1px 1px 1px);clip: rect(1px, 1px, 1px, 1px);height: 1px;margin: -1px;overflow: hidden;padding: 0;position: absolute;width: 1px;}#sk-container-id-4 div.sk-estimator {font-family: monospace;background-color: #f0f8ff;border: 1px dotted black;border-radius: 0.25em;box-sizing: border-box;margin-bottom: 0.5em;}#sk-container-id-4 div.sk-estimator:hover {background-color: #d4ebff;}#sk-container-id-4 div.sk-parallel-item::after {content: \"\";width: 100%;border-bottom: 1px solid gray;flex-grow: 1;}#sk-container-id-4 div.sk-label:hover label.sk-toggleable__label {background-color: #d4ebff;}#sk-container-id-4 div.sk-serial::before {content: \"\";position: absolute;border-left: 1px solid gray;box-sizing: border-box;top: 0;bottom: 0;left: 50%;z-index: 0;}#sk-container-id-4 div.sk-serial {display: flex;flex-direction: column;align-items: center;background-color: white;padding-right: 0.2em;padding-left: 0.2em;position: relative;}#sk-container-id-4 div.sk-item {position: relative;z-index: 1;}#sk-container-id-4 div.sk-parallel {display: flex;align-items: stretch;justify-content: center;background-color: white;position: relative;}#sk-container-id-4 div.sk-item::before, #sk-container-id-4 div.sk-parallel-item::before {content: \"\";position: absolute;border-left: 1px solid gray;box-sizing: border-box;top: 0;bottom: 0;left: 50%;z-index: -1;}#sk-container-id-4 div.sk-parallel-item {display: flex;flex-direction: column;z-index: 1;position: relative;background-color: white;}#sk-container-id-4 div.sk-parallel-item:first-child::after {align-self: flex-end;width: 50%;}#sk-container-id-4 div.sk-parallel-item:last-child::after {align-self: flex-start;width: 50%;}#sk-container-id-4 div.sk-parallel-item:only-child::after {width: 0;}#sk-container-id-4 div.sk-dashed-wrapped {border: 1px dashed gray;margin: 0 0.4em 0.5em 0.4em;box-sizing: border-box;padding-bottom: 0.4em;background-color: white;}#sk-container-id-4 div.sk-label label {font-family: monospace;font-weight: bold;display: inline-block;line-height: 1.2em;}#sk-container-id-4 div.sk-label-container {text-align: center;}#sk-container-id-4 div.sk-container {/* jupyter's `normalize.less` sets `[hidden] { display: none; }` but bootstrap.min.css set `[hidden] { display: none !important; }` so we also need the `!important` here to be able to override the default hidden behavior on the sphinx rendered scikit-learn.org. See: https://github.com/scikit-learn/scikit-learn/issues/21755 */display: inline-block !important;position: relative;}#sk-container-id-4 div.sk-text-repr-fallback {display: none;}</style><div id=\"sk-container-id-4\" class=\"sk-top-container\"><div class=\"sk-text-repr-fallback\"><pre>GradientBoostingRegressor(loss=&#x27;huber&#x27;, max_depth=4, min_samples_split=5,\n",
       "                          n_estimators=300, validation_fraction=0.2)</pre><b>In a Jupyter environment, please rerun this cell to show the HTML representation or trust the notebook. <br />On GitHub, the HTML representation is unable to render, please try loading this page with nbviewer.org.</b></div><div class=\"sk-container\" hidden><div class=\"sk-item\"><div class=\"sk-estimator sk-toggleable\"><input class=\"sk-toggleable__control sk-hidden--visually\" id=\"sk-estimator-id-4\" type=\"checkbox\" checked><label for=\"sk-estimator-id-4\" class=\"sk-toggleable__label sk-toggleable__label-arrow\">GradientBoostingRegressor</label><div class=\"sk-toggleable__content\"><pre>GradientBoostingRegressor(loss=&#x27;huber&#x27;, max_depth=4, min_samples_split=5,\n",
       "                          n_estimators=300, validation_fraction=0.2)</pre></div></div></div></div></div>"
      ],
      "text/plain": [
       "GradientBoostingRegressor(loss='huber', max_depth=4, min_samples_split=5,\n",
       "                          n_estimators=300, validation_fraction=0.2)"
      ]
     },
     "execution_count": 19,
     "metadata": {},
     "output_type": "execute_result"
    }
   ],
   "source": [
    "%%time\n",
    "reg_ensemble.fit(X_train, y_train)"
   ]
  },
  {
   "cell_type": "code",
   "execution_count": 20,
   "id": "23269987-cd0e-4511-9f9d-32c338df7d7b",
   "metadata": {},
   "outputs": [
    {
     "data": {
      "image/png": "[encoded data removed]",
      "text/plain": [
       "<Figure size 576x576 with 2 Axes>"
      ]
     },
     "metadata": {
      "needs_background": "light"
     },
     "output_type": "display_data"
    }
   ],
   "source": [
    "plot_prediction(y_train, reg_ensemble.predict(X_train), n_toplot=5000)"
   ]
  },
  {
   "cell_type": "markdown",
   "id": "29f1b8a2-3b13-46f2-b88a-32e17b0743f0",
   "metadata": {
    "user_expressions": []
   },
   "source": [
    "For this case, the default results are not that bad, but they could be improved with a hyperparameter search. "
   ]
  },
  {
   "cell_type": "markdown",
   "id": "32567500-a1e8-4aca-8f46-147cc539d856",
   "metadata": {
    "user_expressions": []
   },
   "source": [
    "Another interesting aspect of tree-based methods is their interpretability. It is rather easy to extract the feature importance and permutation importance, which can give us important clues on the contribution of each feature (and therefore different forcing variables) to determine glacier-wide mass balance in Scandinavia."
   ]
  },
  {
   "cell_type": "code",
   "execution_count": 27,
   "id": "e57d543e-714e-4de1-a658-830f6cee330f",
   "metadata": {},
   "outputs": [
    {
     "data": {
      "image/png": "[encoded data removed]",
      "text/plain": [
       "<Figure size 864x432 with 2 Axes>"
      ]
     },
     "metadata": {
      "needs_background": "light"
     },
     "output_type": "display_data"
    }
   ],
   "source": [
    "feature_importance = reg_ensemble.feature_importances_\n",
    "sorted_idx = np.argsort(feature_importance)\n",
    "pos = np.arange(sorted_idx.shape[0]) + 0.5\n",
    "fig = plt.figure(figsize=(12, 6))\n",
    "plt.subplot(1, 2, 1)\n",
    "plt.barh(pos, feature_importance[sorted_idx], align=\"center\")\n",
    "plt.yticks(pos, np.array(df_validation_X.columns)[sorted_idx])\n",
    "plt.title(\"Feature Importance (MDI)\")\n",
    "\n",
    "result = permutation_importance(\n",
    "    reg_ensemble, X_validation, y_validation, n_repeats=10, random_state=42, n_jobs=2\n",
    ")\n",
    "sorted_idx = result.importances_mean.argsort()\n",
    "plt.subplot(1, 2, 2)\n",
    "plt.boxplot(\n",
    "    result.importances[sorted_idx].T,\n",
    "    vert=False,\n",
    "    labels=np.array(df_validation_X.columns)[sorted_idx],\n",
    ")\n",
    "plt.title(\"Permutation Importance (validation set)\")\n",
    "fig.tight_layout()\n",
    "plt.show()"
   ]
  },
  {
   "cell_type": "markdown",
   "id": "ba5330a8-ebb4-4a85-bd1e-0eff617e16cc",
   "metadata": {
    "user_expressions": []
   },
   "source": [
    "### 3.2.4. Neural Network\n",
    "\n",
    "Neural networks are some of the most powerful machine learning methods available. Nonetheless, they are much harder to calibrate, due to they huge number of hyperparameters, architecture choices and the fact that they also have parameters (weights) that need to be trained in an iterative fashion using gradient descent. \n",
    "\n",
    "In this case, we will use the simplest of neural networks, a classic Multilayer Perceptron with a small architecture with two hidden layers. We will still use `sklearn` for this, although for more serious modelling we highly recommend using more advanced dedicated libraries such as JAX, PyTorch or Keras/Tensorflow."
   ]
  },
  {
   "cell_type": "code",
   "execution_count": 22,
   "id": "475d1d5a-bf54-433a-a221-7669dc5a4639",
   "metadata": {},
   "outputs": [],
   "source": [
    "from sklearn.neural_network import MLPRegressor"
   ]
  },
  {
   "cell_type": "markdown",
   "id": "3bfe3873-9603-4bcc-a751-f5e059bf8797",
   "metadata": {
    "user_expressions": []
   },
   "source": [
    "These are some of the hyperparameters that `sklearn` lets us choose for the neural network. We use a small `(50,30,20,10)` architecture, a `ReLu` activation function, an LBFGS optimizer (generally better than ADAM for small networks), a batch size of 100, 200 epochs of training, and we shuffle the batches to improve the learning. \n",
    "\n",
    "Note that `sklearn` also allows us to choose a fraction of the dataset to be used for validation to set up early stopping (i.e. stopping the training once we see that the loss is no longer decrease for a given number of epochs). "
   ]
  },
  {
   "cell_type": "code",
   "execution_count": 23,
   "id": "0ec6db66-0a5a-4a97-9d0b-6a77fef5ccb5",
   "metadata": {},
   "outputs": [],
   "source": [
    "reg_nn = MLPRegressor(hidden_layer_sizes=(50,30,20,10),\n",
    "                      activation='relu',\n",
    "                      solver='lbfgs', \n",
    "                      batch_size=100, \n",
    "                      max_iter=200,\n",
    "                      learning_rate='adaptive', \n",
    "                      shuffle=True, \n",
    "                      validation_fraction=0.1)"
   ]
  },
  {
   "cell_type": "code",
   "execution_count": 24,
   "id": "a03c7713-d15f-4ba0-bc93-223830f7fa4d",
   "metadata": {},
   "outputs": [
    {
     "name": "stderr",
     "output_type": "stream",
     "text": [
      "/home/jovyan/.conda/envs/oggm_env/lib/python3.9/site-packages/sklearn/neural_network/_multilayer_perceptron.py:1607: DataConversionWarning: A column-vector y was passed when a 1d array was expected. Please change the shape of y to (n_samples, ), for example using ravel().\n",
      "  y = column_or_1d(y, warn=True)\n"
     ]
    },
    {
     "name": "stdout",
     "output_type": "stream",
     "text": [
      "CPU times: user 3.26 s, sys: 2.01 s, total: 5.27 s\n",
      "Wall time: 1.34 s\n"
     ]
    },
    {
     "name": "stderr",
     "output_type": "stream",
     "text": [
      "/home/jovyan/.conda/envs/oggm_env/lib/python3.9/site-packages/sklearn/neural_network/_multilayer_perceptron.py:559: ConvergenceWarning: lbfgs failed to converge (status=1):\n",
      "STOP: TOTAL NO. of ITERATIONS REACHED LIMIT.\n",
      "\n",
      "Increase the number of iterations (max_iter) or scale the data as shown in:\n",
      "    https://scikit-learn.org/stable/modules/preprocessing.html\n",
      "  self.n_iter_ = _check_optimize_result(\"lbfgs\", opt_res, self.max_iter)\n"
     ]
    },
    {
     "data": {
      "text/html": [
       "<style>#sk-container-id-5 {color: black;background-color: white;}#sk-container-id-5 pre{padding: 0;}#sk-container-id-5 div.sk-toggleable {background-color: white;}#sk-container-id-5 label.sk-toggleable__label {cursor: pointer;display: block;width: 100%;margin-bottom: 0;padding: 0.3em;box-sizing: border-box;text-align: center;}#sk-container-id-5 label.sk-toggleable__label-arrow:before {content: \"▸\";float: left;margin-right: 0.25em;color: #696969;}#sk-container-id-5 label.sk-toggleable__label-arrow:hover:before {color: black;}#sk-container-id-5 div.sk-estimator:hover label.sk-toggleable__label-arrow:before {color: black;}#sk-container-id-5 div.sk-toggleable__content {max-height: 0;max-width: 0;overflow: hidden;text-align: left;background-color: #f0f8ff;}#sk-container-id-5 div.sk-toggleable__content pre {margin: 0.2em;color: black;border-radius: 0.25em;background-color: #f0f8ff;}#sk-container-id-5 input.sk-toggleable__control:checked~div.sk-toggleable__content {max-height: 200px;max-width: 100%;overflow: auto;}#sk-container-id-5 input.sk-toggleable__control:checked~label.sk-toggleable__label-arrow:before {content: \"▾\";}#sk-container-id-5 div.sk-estimator input.sk-toggleable__control:checked~label.sk-toggleable__label {background-color: #d4ebff;}#sk-container-id-5 div.sk-label input.sk-toggleable__control:checked~label.sk-toggleable__label {background-color: #d4ebff;}#sk-container-id-5 input.sk-hidden--visually {border: 0;clip: rect(1px 1px 1px 1px);clip: rect(1px, 1px, 1px, 1px);height: 1px;margin: -1px;overflow: hidden;padding: 0;position: absolute;width: 1px;}#sk-container-id-5 div.sk-estimator {font-family: monospace;background-color: #f0f8ff;border: 1px dotted black;border-radius: 0.25em;box-sizing: border-box;margin-bottom: 0.5em;}#sk-container-id-5 div.sk-estimator:hover {background-color: #d4ebff;}#sk-container-id-5 div.sk-parallel-item::after {content: \"\";width: 100%;border-bottom: 1px solid gray;flex-grow: 1;}#sk-container-id-5 div.sk-label:hover label.sk-toggleable__label {background-color: #d4ebff;}#sk-container-id-5 div.sk-serial::before {content: \"\";position: absolute;border-left: 1px solid gray;box-sizing: border-box;top: 0;bottom: 0;left: 50%;z-index: 0;}#sk-container-id-5 div.sk-serial {display: flex;flex-direction: column;align-items: center;background-color: white;padding-right: 0.2em;padding-left: 0.2em;position: relative;}#sk-container-id-5 div.sk-item {position: relative;z-index: 1;}#sk-container-id-5 div.sk-parallel {display: flex;align-items: stretch;justify-content: center;background-color: white;position: relative;}#sk-container-id-5 div.sk-item::before, #sk-container-id-5 div.sk-parallel-item::before {content: \"\";position: absolute;border-left: 1px solid gray;box-sizing: border-box;top: 0;bottom: 0;left: 50%;z-index: -1;}#sk-container-id-5 div.sk-parallel-item {display: flex;flex-direction: column;z-index: 1;position: relative;background-color: white;}#sk-container-id-5 div.sk-parallel-item:first-child::after {align-self: flex-end;width: 50%;}#sk-container-id-5 div.sk-parallel-item:last-child::after {align-self: flex-start;width: 50%;}#sk-container-id-5 div.sk-parallel-item:only-child::after {width: 0;}#sk-container-id-5 div.sk-dashed-wrapped {border: 1px dashed gray;margin: 0 0.4em 0.5em 0.4em;box-sizing: border-box;padding-bottom: 0.4em;background-color: white;}#sk-container-id-5 div.sk-label label {font-family: monospace;font-weight: bold;display: inline-block;line-height: 1.2em;}#sk-container-id-5 div.sk-label-container {text-align: center;}#sk-container-id-5 div.sk-container {/* jupyter's `normalize.less` sets `[hidden] { display: none; }` but bootstrap.min.css set `[hidden] { display: none !important; }` so we also need the `!important` here to be able to override the default hidden behavior on the sphinx rendered scikit-learn.org. See: https://github.com/scikit-learn/scikit-learn/issues/21755 */display: inline-block !important;position: relative;}#sk-container-id-5 div.sk-text-repr-fallback {display: none;}</style><div id=\"sk-container-id-5\" class=\"sk-top-container\"><div class=\"sk-text-repr-fallback\"><pre>MLPRegressor(batch_size=100, hidden_layer_sizes=(50, 30, 20, 10),\n",
       "             learning_rate=&#x27;adaptive&#x27;, solver=&#x27;lbfgs&#x27;)</pre><b>In a Jupyter environment, please rerun this cell to show the HTML representation or trust the notebook. <br />On GitHub, the HTML representation is unable to render, please try loading this page with nbviewer.org.</b></div><div class=\"sk-container\" hidden><div class=\"sk-item\"><div class=\"sk-estimator sk-toggleable\"><input class=\"sk-toggleable__control sk-hidden--visually\" id=\"sk-estimator-id-5\" type=\"checkbox\" checked><label for=\"sk-estimator-id-5\" class=\"sk-toggleable__label sk-toggleable__label-arrow\">MLPRegressor</label><div class=\"sk-toggleable__content\"><pre>MLPRegressor(batch_size=100, hidden_layer_sizes=(50, 30, 20, 10),\n",
       "             learning_rate=&#x27;adaptive&#x27;, solver=&#x27;lbfgs&#x27;)</pre></div></div></div></div></div>"
      ],
      "text/plain": [
       "MLPRegressor(batch_size=100, hidden_layer_sizes=(50, 30, 20, 10),\n",
       "             learning_rate='adaptive', solver='lbfgs')"
      ]
     },
     "execution_count": 24,
     "metadata": {},
     "output_type": "execute_result"
    }
   ],
   "source": [
    "%%time\n",
    "reg_nn.fit(X_train_scaled, y_train)"
   ]
  },
  {
   "cell_type": "code",
   "execution_count": 25,
   "id": "a8b86419-0d79-4f94-89c0-5ef70921ca1e",
   "metadata": {},
   "outputs": [
    {
     "data": {
      "image/png": "[encoded data removed]",
      "text/plain": [
       "<Figure size 576x576 with 2 Axes>"
      ]
     },
     "metadata": {
      "needs_background": "light"
     },
     "output_type": "display_data"
    }
   ],
   "source": [
    "plot_prediction(y_train, reg_nn.predict(X_train_scaled), n_toplot=5000)"
   ]
  },
  {
   "cell_type": "markdown",
   "id": "27b9098f-533d-4cf9-b2ac-b5dea2c1e7cf",
   "metadata": {
    "user_expressions": []
   },
   "source": [
    "Same as for the tree-based methods, we can see that this neural network, even with minor hyperparameter tuning, is already quite capable of modelling the variability of glacier-wide mass balance for the training dataset. Now we need to make sure that it is also capable of correctly extrapolating to \"unseen\" glaciers from the test dataset!"
   ]
  },
  {
   "cell_type": "markdown",
   "id": "3620b47e-405c-4975-acb2-33c339b8d095",
   "metadata": {
    "user_expressions": []
   },
   "source": [
    "## [ **Exercice 2** ]\n",
    "<img src=\"Figures/eye_logo.png\" width=\"75\"/>\n",
    "\n",
    "Choose 2 or 3 different ML models, and play with the hyperparameters in order to improve the performance **in validation** by looking at the scatter plot. You just need to reproduce the same workflow, but using the validation dataset for visualizing the results instead of the training one. \n",
    "\n",
    "This is just a rough way to have a best first estimate of good hyperparameters. In the next notebook we will see how to correctly look for the best possible hyperparameters by using cross-validation. "
   ]
  },
  {
   "cell_type": "code",
   "execution_count": null,
   "id": "1ab5a9b7-f75a-4f0a-bef3-0ee523bece45",
   "metadata": {},
   "outputs": [],
   "source": []
  }
 ],
 "metadata": {
  "kernelspec": {
   "display_name": "Python 3 (ipykernel)",
   "language": "python",
   "name": "python3"
  },
  "language_info": {
   "codemirror_mode": {
    "name": "ipython",
    "version": 3
   },
   "file_extension": ".py",
   "mimetype": "text/x-python",
   "name": "python",
   "nbconvert_exporter": "python",
   "pygments_lexer": "ipython3",
   "version": "3.10.8"
  }
 },
 "nbformat": 4,
 "nbformat_minor": 5
}
