{
 "cells": [
  {
   "cell_type": "markdown",
   "id": "62321d43-d6be-4c35-904d-8baad835d3ff",
   "metadata": {},
   "source": [
    "# Part IV: Validation and Testing\n",
    "\n",
    "Date: 23/08/2022\n",
    "\n",
    "Authors: Jordi Bolibar & Facundo Sapienza"
   ]
  },
  {
   "cell_type": "code",
   "execution_count": 1,
   "id": "478d0888-0204-4ef1-8878-255845ea2880",
   "metadata": {},
   "outputs": [],
   "source": [
    "import numpy as np\n",
    "import pandas as pd\n",
    "import matplotlib.pyplot as plt"
   ]
  },
  {
   "cell_type": "markdown",
   "id": "9aa0fdf7-43df-4def-9139-a8a16e706924",
   "metadata": {},
   "source": [
    "# Setup\n",
    "\n",
    "The goal if this notebook is to explore different validation and testing methodologies that you can use and the respective considerations you have to consider at the moment of asserting the performace of a given model, either for model selection or test report. \n",
    "\n",
    "When training and testing a model, we usually split the dataset among three different sets: training, validation and testing set. Sometimes, this split of the data is done authomatically by the method we use, and sometimes instead of a simple split of the dataset into three pieces is done iteratively (eg, in k-fold cross-validation). Independently of how we implement this, we need to understand the limitations and considerations we need to have at the moment we do the split. This considerations can include:\n",
    "- Sampling procedure\n",
    "- Spatial and temporal correlations between data points\n",
    "- Size of data available\n",
    "- Nature of the datasets: where are they comming from? How independent they are?\n",
    "\n",
    "How would you desing a validation-testing workflow for the problem of predicting the mass balance?"
   ]
  }
 ],
 "metadata": {
  "kernelspec": {
   "display_name": "Python [conda env:shared-readwrite-Finse_MB_oggm]",
   "language": "python",
   "name": "conda-env-shared-readwrite-Finse_MB_oggm-py"
  },
  "language_info": {
   "codemirror_mode": {
    "name": "ipython",
    "version": 3
   },
   "file_extension": ".py",
   "mimetype": "text/x-python",
   "name": "python",
   "nbconvert_exporter": "python",
   "pygments_lexer": "ipython3",
   "version": "3.9.13"
  }
 },
 "nbformat": 4,
 "nbformat_minor": 5
}
