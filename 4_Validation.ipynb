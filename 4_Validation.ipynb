{
 "cells": [
  {
   "cell_type": "markdown",
   "id": "62321d43-d6be-4c35-904d-8baad835d3ff",
   "metadata": {},
   "source": [
    "# Part IV: Validation and Testing\n",
    "\n",
    "Date: 23/08/2022\n",
    "\n",
    "Authors: Jordi Bolibar & Facundo Sapienza"
   ]
  },
  {
   "cell_type": "code",
   "execution_count": 1,
   "id": "478d0888-0204-4ef1-8878-255845ea2880",
   "metadata": {},
   "outputs": [],
   "source": [
    "import numpy as np\n",
    "import pandas as pd\n",
    "import matplotlib.pyplot as plt"
   ]
  },
  {
   "cell_type": "markdown",
   "id": "9aa0fdf7-43df-4def-9139-a8a16e706924",
   "metadata": {},
   "source": [
    "# Setup\n",
    "\n",
    "The goal of this notebook is to explore different validation and testing methodologies that you can use and the respective considerations you have to consider at the moment of asserting the performace of a given model, either for model selection or test report. \n",
    "\n",
    "When training and testing a model, we usually split the dataset among three different sets: training, validation and testing set. Sometimes, this split of the data is done authomatically by the method we use, and sometimes instead of a simple split of the dataset into three pieces is done iteratively (eg, in k-fold cross-validation). Independently of how we implement this, we need to understand the limitations and considerations we need to have at the moment we do the split. This considerations can include:\n",
    "- Sampling procedure\n",
    "- Spatial and temporal correlations between data points\n",
    "- Size of data available\n",
    "- Nature of the datasets: where are they coming from? How independent they are?"
   ]
  },
  {
   "cell_type": "markdown",
   "id": "b062142f-d23f-4b31-ba07-f9b258a25765",
   "metadata": {},
   "source": [
    "### [ **Exercice 2** ]\n",
    "<img src=\"Figures/eye_logo.png\" width=\"75\"/>\n",
    "\n",
    "How would you desing a validation-testing workflow for the problem of predicting the mass balance? How would you divide the different folds?\n",
    "\n",
    "For an excellent introduction to cross-validation, as well as the different high-level function to implement it in `sklearn` models, checkout [this tutorial](https://scikit-learn.org/stable/modules/cross_validation.html). "
   ]
  }
 ],
 "metadata": {
  "kernelspec": {
   "display_name": "Python [conda env:.conda-oggm_env]",
   "language": "python",
   "name": "conda-env-.conda-oggm_env-py"
  },
  "language_info": {
   "codemirror_mode": {
    "name": "ipython",
    "version": 3
   },
   "file_extension": ".py",
   "mimetype": "text/x-python",
   "name": "python",
   "nbconvert_exporter": "python",
   "pygments_lexer": "ipython3",
   "version": "3.9.9"
  }
 },
 "nbformat": 4,
 "nbformat_minor": 5
}
